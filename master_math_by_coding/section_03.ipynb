{
 "cells": [
  {
   "cell_type": "markdown",
   "source": [
    "### 24.0 Intro to Sympy, Part 1"
   ],
   "metadata": {}
  },
  {
   "cell_type": "code",
   "execution_count": 1,
   "source": [
    "import warnings\n",
    "import sympy as sym\n",
    "import numpy as np\n",
    "\n",
    "from matplotlib import MatplotlibDeprecationWarning\n",
    "from IPython.display import display, Markdown\n",
    "\n",
    "sym.init_printing()\n",
    "warnings.filterwarnings('ignore', category=MatplotlibDeprecationWarning)"
   ],
   "outputs": [],
   "metadata": {}
  },
  {
   "cell_type": "code",
   "execution_count": 2,
   "source": [
    "x, y = sym.symbols('x, y')"
   ],
   "outputs": [],
   "metadata": {}
  },
  {
   "cell_type": "code",
   "execution_count": 3,
   "source": [
    "display(Markdown(f'$ 1\\\\,)\\\\qquad x^{{\\\\,y}} $'))\n",
    "display(Markdown(f'$ 2\\\\,)\\\\qquad y + 4 $'))\n",
    "display(Markdown(f\"$ 3\\\\,)\\\\qquad \\\\frac{{x}}{{y}} $\"))"
   ],
   "outputs": [
    {
     "output_type": "display_data",
     "data": {
      "text/plain": [
       "<IPython.core.display.Markdown object>"
      ],
      "text/markdown": [
       "$ 1\\,)\\qquad x^{\\,y} $"
      ]
     },
     "metadata": {}
    },
    {
     "output_type": "display_data",
     "data": {
      "text/plain": [
       "<IPython.core.display.Markdown object>"
      ],
      "text/markdown": [
       "$ 2\\,)\\qquad y + 4 $"
      ]
     },
     "metadata": {}
    },
    {
     "output_type": "display_data",
     "data": {
      "text/plain": [
       "<IPython.core.display.Markdown object>"
      ],
      "text/markdown": [
       "$ 3\\,)\\qquad \\frac{x}{y} $"
      ]
     },
     "metadata": {}
    }
   ],
   "metadata": {}
  },
  {
   "cell_type": "code",
   "execution_count": 4,
   "source": [
    "display(Markdown(f\"$ {sym.latex(sym.sqrt(2))} = {np.sqrt(2)} $ \"))\n"
   ],
   "outputs": [
    {
     "output_type": "display_data",
     "data": {
      "text/plain": [
       "<IPython.core.display.Markdown object>"
      ],
      "text/markdown": [
       "$ \\sqrt{2} = 1.4142135623730951 $ "
      ]
     },
     "metadata": {}
    }
   ],
   "metadata": {}
  },
  {
   "cell_type": "code",
   "execution_count": 5,
   "source": [
    "eq1 = f\"\"\"\n",
    "$ 1\\\\,)\\\\qquad {sym.latex(y * (x**2))} $\n",
    "\"\"\"\n",
    "\n",
    "eq2 = f\"\"\"\n",
    "$ 2\\\\,)\\\\qquad {sym.latex(sym.sqrt(4)*x)} $\n",
    "\"\"\"\n",
    "\n",
    "eq3 = f\"\"\"\n",
    "$ 3\\\\,)\\\\qquad {sym.latex(sym.sqrt(x) * sym.sqrt(x))} $\n",
    "\"\"\"\n",
    "\n",
    "display(Markdown(eq1))\n",
    "display(Markdown(eq2))\n",
    "display(Markdown(eq3))"
   ],
   "outputs": [
    {
     "output_type": "display_data",
     "data": {
      "text/plain": [
       "<IPython.core.display.Markdown object>"
      ],
      "text/markdown": [
       "\n",
       "$ 1\\,)\\qquad x^{2} y $\n"
      ]
     },
     "metadata": {}
    },
    {
     "output_type": "display_data",
     "data": {
      "text/plain": [
       "<IPython.core.display.Markdown object>"
      ],
      "text/markdown": [
       "\n",
       "$ 2\\,)\\qquad 2 x $\n"
      ]
     },
     "metadata": {}
    },
    {
     "output_type": "display_data",
     "data": {
      "text/plain": [
       "<IPython.core.display.Markdown object>"
      ],
      "text/markdown": [
       "\n",
       "$ 3\\,)\\qquad x $\n"
      ]
     },
     "metadata": {}
    }
   ],
   "metadata": {}
  },
  {
   "cell_type": "code",
   "execution_count": 6,
   "source": [
    "display(Markdown(sym.latex(sym.sqrt(4))))"
   ],
   "outputs": [
    {
     "output_type": "display_data",
     "data": {
      "text/plain": [
       "<IPython.core.display.Markdown object>"
      ],
      "text/markdown": [
       "2"
      ]
     },
     "metadata": {}
    }
   ],
   "metadata": {}
  },
  {
   "cell_type": "markdown",
   "source": [
    "### 25.0 Intro to LaTeX"
   ],
   "metadata": {}
  },
  {
   "cell_type": "code",
   "execution_count": 7,
   "source": [
    "eq1a = f\"\"\"\n",
    "$ 1\\\\,)\\\\qquad {y} \\\\times {x}^2 $\n",
    "\"\"\"\n",
    "\n",
    "eq2a = f\"\"\"\n",
    "$ 2\\\\,)\\\\qquad \\\\sqrt{{x}} \\\\, x $\n",
    "\"\"\"\n",
    "\n",
    "eq3a = f\"\"\"\n",
    "$ 3\\\\,)\\\\qquad \\\\text{{This is an interesting equation: }} \\\\sqrt{{x}} \\\\sqrt{{x}} $\n",
    "\"\"\"\n",
    "\n",
    "display(Markdown(eq1a))\n",
    "display(Markdown(eq2a))\n",
    "display(Markdown(eq3a))"
   ],
   "outputs": [
    {
     "output_type": "display_data",
     "data": {
      "text/plain": [
       "<IPython.core.display.Markdown object>"
      ],
      "text/markdown": [
       "\n",
       "$ 1\\,)\\qquad y \\times x^2 $\n"
      ]
     },
     "metadata": {}
    },
    {
     "output_type": "display_data",
     "data": {
      "text/plain": [
       "<IPython.core.display.Markdown object>"
      ],
      "text/markdown": [
       "\n",
       "$ 2\\,)\\qquad \\sqrt{x} \\, x $\n"
      ]
     },
     "metadata": {}
    },
    {
     "output_type": "display_data",
     "data": {
      "text/plain": [
       "<IPython.core.display.Markdown object>"
      ],
      "text/markdown": [
       "\n",
       "$ 3\\,)\\qquad \\text{This is an interesting equation: } \\sqrt{x} \\sqrt{x} $\n"
      ]
     },
     "metadata": {}
    }
   ],
   "metadata": {}
  },
  {
   "cell_type": "code",
   "execution_count": 8,
   "source": [
    "# Exercises for the lesson \n",
    "eq4 = f\"\"\"\n",
    "$ 1\\\\,)\\\\qquad 4{x} + 5{y} - 8z = 17 $\n",
    "\"\"\"\n",
    "\n",
    "eq5 = f\"\"\"\n",
    "$ 2\\\\,)\\\\qquad \\\\sin(2\\\\pi ft + \\\\theta) $\n",
    "\"\"\"\n",
    "\n",
    "eq6 = f\"\"\"\n",
    "$ 3\\\\,)\\\\qquad e = mc^2 $\n",
    "\"\"\"\n",
    "\n",
    "eq7 = f\"\"\"\n",
    "$ 4\\\\,)\\\\qquad \\\\frac{{4 + 5x^2}}{{(1 + x)\\\\,(1 - x)}} $\n",
    "\"\"\"\n",
    "\n",
    "display(Markdown(eq4))\n",
    "display(Markdown(eq5))\n",
    "display(Markdown(eq6))\n",
    "display(Markdown(eq7))"
   ],
   "outputs": [
    {
     "output_type": "display_data",
     "data": {
      "text/plain": [
       "<IPython.core.display.Markdown object>"
      ],
      "text/markdown": [
       "\n",
       "$ 1\\,)\\qquad 4x + 5y - 8z = 17 $\n"
      ]
     },
     "metadata": {}
    },
    {
     "output_type": "display_data",
     "data": {
      "text/plain": [
       "<IPython.core.display.Markdown object>"
      ],
      "text/markdown": [
       "\n",
       "$ 2\\,)\\qquad \\sin(2\\pi ft + \\theta) $\n"
      ]
     },
     "metadata": {}
    },
    {
     "output_type": "display_data",
     "data": {
      "text/plain": [
       "<IPython.core.display.Markdown object>"
      ],
      "text/markdown": [
       "\n",
       "$ 3\\,)\\qquad e = mc^2 $\n"
      ]
     },
     "metadata": {}
    },
    {
     "output_type": "display_data",
     "data": {
      "text/plain": [
       "<IPython.core.display.Markdown object>"
      ],
      "text/markdown": [
       "\n",
       "$ 4\\,)\\qquad \\frac{4 + 5x^2}{(1 + x)\\,(1 - x)} $\n"
      ]
     },
     "metadata": {}
    }
   ],
   "metadata": {}
  },
  {
   "cell_type": "markdown",
   "source": [
    "### 26.0 Intro to Sympy, Part 2"
   ],
   "metadata": {}
  },
  {
   "cell_type": "code",
   "execution_count": 9,
   "source": [
    "# You can incorporate Greeks into your Sympy expressions\n",
    "mu, alpha, sigma = sym.symbols(\"mu, alpha, sigma\")\n",
    "\n",
    "expr = sym.exp( (mu-alpha)**2 / (2*sigma**2) )\n",
    "\n",
    "display(Markdown(f\"\"\"$ {sym.latex(expr)} $\"\"\"))\n",
    "\n",
    "# display(expr)"
   ],
   "outputs": [
    {
     "output_type": "display_data",
     "data": {
      "text/plain": [
       "<IPython.core.display.Markdown object>"
      ],
      "text/markdown": [
       "$ e^{\\frac{\\left(- \\alpha + \\mu\\right)^{2}}{2 \\sigma^{2}}} $"
      ]
     },
     "metadata": {}
    }
   ],
   "metadata": {}
  },
  {
   "cell_type": "code",
   "execution_count": 10,
   "source": [
    "x2, y2= sym.symbols('x2, y2')\n",
    "expr = x2+4+2*y2\n",
    "expr_out = expr.subs({x2:-4,y2:3})\n",
    "\n",
    "display(Markdown(f\"\"\"$ {expr_out} $\"\"\"))"
   ],
   "outputs": [
    {
     "output_type": "display_data",
     "data": {
      "text/plain": [
       "<IPython.core.display.Markdown object>"
      ],
      "text/markdown": [
       "$ 6 $"
      ]
     },
     "metadata": {}
    }
   ],
   "metadata": {}
  },
  {
   "cell_type": "code",
   "execution_count": 11,
   "source": [
    "display(Markdown(f\"\"\"$ {sym.latex(sym.sympify('3/4'))} $\"\"\"))"
   ],
   "outputs": [
    {
     "output_type": "display_data",
     "data": {
      "text/plain": [
       "<IPython.core.display.Markdown object>"
      ],
      "text/markdown": [
       "$ \\frac{3}{4} $"
      ]
     },
     "metadata": {}
    }
   ],
   "metadata": {}
  },
  {
   "cell_type": "code",
   "execution_count": 41,
   "source": [
    "# 26.0 Exercises\n",
    "for i in range(-2, 3, 1):\n",
    "    eq8 = f\"\"\"$ {i+3}\\\\,)\\\\qquad \\\\text{{With }} x = {i:+}: x^2 + 4 \\\\quad \\\\Rightarrow \\\\quad {i}^2 + 4 = {i**2 + 4} $\"\"\"\n",
    "\n",
    "    display(Markdown(eq8))\n"
   ],
   "outputs": [
    {
     "output_type": "display_data",
     "data": {
      "text/plain": [
       "<IPython.core.display.Markdown object>"
      ],
      "text/markdown": [
       "$ 1\\,)\\qquad \\text{With } x = -2: x^2 + 4 \\quad \\Rightarrow \\quad -2^2 + 4 = 8 $"
      ]
     },
     "metadata": {}
    },
    {
     "output_type": "display_data",
     "data": {
      "text/plain": [
       "<IPython.core.display.Markdown object>"
      ],
      "text/markdown": [
       "$ 2\\,)\\qquad \\text{With } x = -1: x^2 + 4 \\quad \\Rightarrow \\quad -1^2 + 4 = 5 $"
      ]
     },
     "metadata": {}
    },
    {
     "output_type": "display_data",
     "data": {
      "text/plain": [
       "<IPython.core.display.Markdown object>"
      ],
      "text/markdown": [
       "$ 3\\,)\\qquad \\text{With } x = +0: x^2 + 4 \\quad \\Rightarrow \\quad 0^2 + 4 = 4 $"
      ]
     },
     "metadata": {}
    },
    {
     "output_type": "display_data",
     "data": {
      "text/plain": [
       "<IPython.core.display.Markdown object>"
      ],
      "text/markdown": [
       "$ 4\\,)\\qquad \\text{With } x = +1: x^2 + 4 \\quad \\Rightarrow \\quad 1^2 + 4 = 5 $"
      ]
     },
     "metadata": {}
    },
    {
     "output_type": "display_data",
     "data": {
      "text/plain": [
       "<IPython.core.display.Markdown object>"
      ],
      "text/markdown": [
       "$ 5\\,)\\qquad \\text{With } x = +2: x^2 + 4 \\quad \\Rightarrow \\quad 2^2 + 4 = 8 $"
      ]
     },
     "metadata": {}
    }
   ],
   "metadata": {}
  },
  {
   "cell_type": "markdown",
   "source": [
    "### 27.0 Printing with F-Strings\n",
    "- Explanitory only no coding"
   ],
   "metadata": {}
  },
  {
   "cell_type": "code",
   "execution_count": null,
   "source": [],
   "outputs": [],
   "metadata": {}
  }
 ],
 "metadata": {
  "orig_nbformat": 4,
  "language_info": {
   "name": "python",
   "version": "3.9.6",
   "mimetype": "text/x-python",
   "codemirror_mode": {
    "name": "ipython",
    "version": 3
   },
   "pygments_lexer": "ipython3",
   "nbconvert_exporter": "python",
   "file_extension": ".py"
  },
  "kernelspec": {
   "name": "python3",
   "display_name": "Python 3.9.6 64-bit ('.venv': venv)"
  },
  "interpreter": {
   "hash": "63ba021c118c1bd3faca8caa34dc966b6966c784ba063dbe0904d78b2ae517ea"
  }
 },
 "nbformat": 4,
 "nbformat_minor": 2
}