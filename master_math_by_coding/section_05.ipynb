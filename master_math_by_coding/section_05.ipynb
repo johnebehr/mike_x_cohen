{
 "cells": [
  {
   "cell_type": "markdown",
   "source": [
    "### 34.0 Solving for x"
   ],
   "metadata": {}
  },
  {
   "cell_type": "markdown",
   "source": [
    "- Equations in \"homogeneous\" form - set an equation to $ 0 $\n",
    "    - $ 2x + 4 = 9 \\Rightarrow 2x + 4 -9 = 0 $\n",
    "    - Sympy often works well with homogeneous equations"
   ],
   "metadata": {}
  },
  {
   "cell_type": "code",
   "execution_count": 17,
   "source": [
    "import sympy as sym \n",
    "\n",
    "from IPython.display import display, Math, Markdown"
   ],
   "outputs": [],
   "metadata": {}
  },
  {
   "cell_type": "code",
   "execution_count": 31,
   "source": [
    "x = sym.symbols('x')\n",
    "\n",
    "# Origional equation: 2x + 4 = 9\n",
    "expr = 2*x + 4 - 9\n",
    "# sym.solve(expr)\n",
    "display(Math(f\"$ \\\\text{{The solution for }} \\\\, {sym.latex(expr)} \\\\, \\\\text{{is}} \\\\, {sym.solve(expr)[0].evalf(2)} $\"))"
   ],
   "outputs": [
    {
     "output_type": "display_data",
     "data": {
      "text/plain": [
       "<IPython.core.display.Math object>"
      ],
      "text/latex": [
       "$\\displaystyle  \\text{The solution for } \\, 2 x - 5 \\, \\text{is} \\, 2.5 $"
      ]
     },
     "metadata": {}
    }
   ],
   "metadata": {}
  },
  {
   "cell_type": "code",
   "execution_count": 33,
   "source": [
    "y = sym.symbols('y')\n",
    "\n",
    "expr2 = x/4 - x * y + 5\n",
    "\n",
    "display(sym.solve(expr2))\n",
    "display(sym.solve(expr2, y))"
   ],
   "outputs": [
    {
     "output_type": "display_data",
     "data": {
      "text/plain": [
       "[{x: 20/(4*y - 1)}]"
      ]
     },
     "metadata": {}
    },
    {
     "output_type": "display_data",
     "data": {
      "text/plain": [
       "[(x + 20)/(4*x)]"
      ]
     },
     "metadata": {}
    }
   ],
   "metadata": {}
  },
  {
   "cell_type": "markdown",
   "source": [
    "### 35.0 Solving for x - exercises"
   ],
   "metadata": {}
  },
  {
   "cell_type": "markdown",
   "source": [],
   "metadata": {}
  }
 ],
 "metadata": {
  "orig_nbformat": 4,
  "language_info": {
   "name": "python",
   "version": "3.9.6",
   "mimetype": "text/x-python",
   "codemirror_mode": {
    "name": "ipython",
    "version": 3
   },
   "pygments_lexer": "ipython3",
   "nbconvert_exporter": "python",
   "file_extension": ".py"
  },
  "kernelspec": {
   "name": "python3",
   "display_name": "Python 3.9.6 64-bit ('.venv': venv)"
  },
  "interpreter": {
   "hash": "63ba021c118c1bd3faca8caa34dc966b6966c784ba063dbe0904d78b2ae517ea"
  }
 },
 "nbformat": 4,
 "nbformat_minor": 2
}