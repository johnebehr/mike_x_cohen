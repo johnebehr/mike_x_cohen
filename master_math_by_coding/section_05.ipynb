{
 "cells": [
  {
   "cell_type": "markdown",
   "source": [
    "### 34.0 Solving for x"
   ],
   "metadata": {}
  },
  {
   "cell_type": "code",
   "execution_count": 12,
   "source": [
    "import random\n",
    "import sympy as sym \n",
    "\n",
    "from IPython.display import display, Math, Markdown"
   ],
   "outputs": [],
   "metadata": {}
  },
  {
   "cell_type": "markdown",
   "source": [
    "- Equations in \"homogeneous\" form - set an equation to $ 0 $\n",
    "    - $ 2x + 4 = 9 \\Rightarrow 2x + 4 -9 = 0 $\n",
    "    - Sympy often works well with homogeneous equations"
   ],
   "metadata": {}
  },
  {
   "cell_type": "code",
   "execution_count": 13,
   "source": [
    "x = sym.symbols('x')\n",
    "\n",
    "# Origional equation: 2x + 4 = 9\n",
    "expr = 2*x + 4 - 9\n",
    "# sym.solve(expr)\n",
    "display(Math(f\"$ \\\\text{{The solution for }} \\\\, {sym.latex(expr)} \\\\, \\\\text{{is}} \\\\, {sym.solve(expr)[0].evalf(2)} $\"))"
   ],
   "outputs": [
    {
     "output_type": "display_data",
     "data": {
      "text/plain": [
       "<IPython.core.display.Math object>"
      ],
      "text/latex": [
       "$\\displaystyle  \\text{The solution for } \\, 2 x - 5 \\, \\text{is} \\, 2.5 $"
      ]
     },
     "metadata": {}
    }
   ],
   "metadata": {}
  },
  {
   "cell_type": "code",
   "execution_count": 14,
   "source": [
    "y = sym.symbols('y')\n",
    "\n",
    "expr2 = x/4 - x * y + 5\n",
    "\n",
    "display(sym.solve(expr2))\n",
    "display(sym.solve(expr2, y))"
   ],
   "outputs": [
    {
     "output_type": "display_data",
     "data": {
      "text/plain": [
       "[{x: 20/(4*y - 1)}]"
      ]
     },
     "metadata": {}
    },
    {
     "output_type": "display_data",
     "data": {
      "text/plain": [
       "[(x + 20)/(4*x)]"
      ]
     },
     "metadata": {}
    }
   ],
   "metadata": {}
  },
  {
   "cell_type": "markdown",
   "source": [
    "### 35.0 Solving for x - exercises"
   ],
   "metadata": {}
  },
  {
   "cell_type": "markdown",
   "source": [
    "#### Exercise \\#1\n",
    "- Implement this equation in Sympy\n",
    "    - $ 3q + \\frac{4}{q} + 3 = 5q + \\frac{1}{q} + 1 \\Rightarrow 3q + \\frac{4}{q} + 3 -(5q + \\frac{1}{q} +1) $\n",
    "- Simplify\n",
    "- Solve for $ q $"
   ],
   "metadata": {}
  },
  {
   "cell_type": "code",
   "execution_count": 15,
   "source": [
    "# Setup \n",
    "q = sym.symbols('q')\n",
    "\n",
    "# Implement in Sympy \n",
    "eq1 = 3*q + (4/q) + 3 -(5*q + (1/q) + 1)\n",
    "\n",
    "# Take a look at the equation\n",
    "display(Math(f\"$ \\\\text{{Implement in Sympy: }} {sym.latex(eq1)} $\"))\n",
    "# Simplify\n",
    "display(Math(f\"$ \\\\text{{Apply simplify(): }} {sym.latex(eq1.simplify())} $\"))\n",
    "\n",
    "# Solve for q\n",
    "display(Math(f\"$ \\\\text{{q =  }} {sym.latex(sym.solve(eq1,q))} $\"))"
   ],
   "outputs": [
    {
     "output_type": "display_data",
     "data": {
      "text/plain": [
       "<IPython.core.display.Math object>"
      ],
      "text/latex": [
       "$\\displaystyle  \\text{Implement in Sympy: } - 2 q + 2 + \\frac{3}{q} $"
      ]
     },
     "metadata": {}
    },
    {
     "output_type": "display_data",
     "data": {
      "text/plain": [
       "<IPython.core.display.Math object>"
      ],
      "text/latex": [
       "$\\displaystyle  \\text{Apply simplify(): } - 2 q + 2 + \\frac{3}{q} $"
      ]
     },
     "metadata": {}
    },
    {
     "output_type": "display_data",
     "data": {
      "text/plain": [
       "<IPython.core.display.Math object>"
      ],
      "text/latex": [
       "$\\displaystyle  \\text{q =  } \\left[ \\frac{1}{2} - \\frac{\\sqrt{7}}{2}, \\  \\frac{1}{2} + \\frac{\\sqrt{7}}{2}\\right] $"
      ]
     },
     "metadata": {}
    }
   ],
   "metadata": {}
  },
  {
   "cell_type": "markdown",
   "source": [
    "#### Exercise \\#2\n",
    "- Implement this equation in Sympy:\n",
    "    - $ 2q + 3q^2 - \\frac{5}{q} - \\frac{4}{q^3} $\n",
    "- Apply the functions `simplify` and `cancel`"
   ],
   "metadata": {}
  },
  {
   "cell_type": "code",
   "execution_count": 16,
   "source": [
    "# Implement in Sympy\n",
    "eq2 = 2*q + 3*q**2 - (5/q) - (4/q**3)\n",
    "\n",
    "# Take a look at the equation\n",
    "display(Math(f\"$ \\\\text{{Implement in Sympy: }} {sym.latex(eq2)} $\"))\n",
    "\n",
    "# Use the simplify method\n",
    "display(Math(f\"$ \\\\text{{Simplify: }} {sym.latex(sym.simplify(eq2))} $\"))\n",
    "\n",
    "# Check for canceling terms\n",
    "display(Math(f\"$ \\\\text{{Check for canceling terms: }} {sym.latex(sym.cancel(eq2))} $\"))\n"
   ],
   "outputs": [
    {
     "output_type": "display_data",
     "data": {
      "text/plain": [
       "<IPython.core.display.Math object>"
      ],
      "text/latex": [
       "$\\displaystyle  \\text{Implement in Sympy: } 3 q^{2} + 2 q - \\frac{5}{q} - \\frac{4}{q^{3}} $"
      ]
     },
     "metadata": {}
    },
    {
     "output_type": "display_data",
     "data": {
      "text/plain": [
       "<IPython.core.display.Math object>"
      ],
      "text/latex": [
       "$\\displaystyle  \\text{Simplify: } 3 q^{2} + 2 q - \\frac{5}{q} - \\frac{4}{q^{3}} $"
      ]
     },
     "metadata": {}
    },
    {
     "output_type": "display_data",
     "data": {
      "text/plain": [
       "<IPython.core.display.Math object>"
      ],
      "text/latex": [
       "$\\displaystyle  \\text{Check for canceling terms: } \\frac{3 q^{5} + 2 q^{4} - 5 q^{2} - 4}{q^{3}} $"
      ]
     },
     "metadata": {}
    }
   ],
   "metadata": {}
  },
  {
   "cell_type": "markdown",
   "source": [
    "#### Exercise \\#3\n",
    "- Implement this equation in Sympy:\n",
    "    - $ \\frac{\\sqrt{3} + \\sqrt{15q}}{\\sqrt{2} + \\sqrt{10}q} $\n",
    "- Simplify \n",
    "- Confirm the algebra on your own \n",
    "- Test in Python by substituting numbers for $ q $"
   ],
   "metadata": {}
  },
  {
   "cell_type": "code",
   "execution_count": 17,
   "source": [
    "# Implement in sympy \n",
    "eq3 = (sym.sqrt(3) + sym.sqrt(15) * q) / (sym.sqrt(2) + sym.sqrt(10) * q)\n",
    "\n",
    "# Take a look at the equation\n",
    "display(Math(f\"$ \\\\text{{Implement in Sympy: }} {sym.latex(eq3)} $\"))\n",
    "\n",
    "# Use the simplify method\n",
    "display(Math(f\"$ \\\\text{{Simplify: }} {sym.latex(sym.simplify(eq3))} $\"))"
   ],
   "outputs": [
    {
     "output_type": "display_data",
     "data": {
      "text/plain": [
       "<IPython.core.display.Math object>"
      ],
      "text/latex": [
       "$\\displaystyle  \\text{Implement in Sympy: } \\frac{\\sqrt{15} q + \\sqrt{3}}{\\sqrt{10} q + \\sqrt{2}} $"
      ]
     },
     "metadata": {}
    },
    {
     "output_type": "display_data",
     "data": {
      "text/plain": [
       "<IPython.core.display.Math object>"
      ],
      "text/latex": [
       "$\\displaystyle  \\text{Simplify: } \\frac{\\sqrt{6}}{2} $"
      ]
     },
     "metadata": {}
    }
   ],
   "metadata": {}
  },
  {
   "cell_type": "code",
   "execution_count": 18,
   "source": [
    "# Variable substitution \n",
    "for _ in range(10):\n",
    "    possible_q = random.randint(1,10)\n",
    "\n",
    "    suber = eq3.subs(q, possible_q)\n",
    "\n",
    "    print(suber.evalf())\n",
    "\n",
    "eq3a = f\" \\\\frac{{\\\\sqrt{3} + \\\\sqrt{3}\\\\sqrt{5}q}}{{\\\\sqrt{2} + \\\\sqrt{2}\\\\sqrt{5}q}} \"\n",
    "eq3b = f\" \\\\frac{{\\\\sqrt{3}(1 + \\\\sqrt{5}q)}}{{\\\\sqrt{2}(1 + \\\\sqrt{5}q)}} \"\n",
    "eq3c = f\" \\\\frac{{\\\\sqrt{3}}}{{\\\\sqrt{2}}} \"\n",
    "display(Math(f\"$ \\\\text{{Why is this: }} {sym.latex(eq3)} \\\\Rightarrow {eq3a} \\\\Rightarrow {eq3b} \\\\Rightarrow {eq3c} \\\\Rightarrow {sym.latex(sym.simplify(eq3))} = {suber.evalf()} $\"))\n",
    "\n",
    "print(suber)"
   ],
   "outputs": [
    {
     "output_type": "stream",
     "name": "stdout",
     "text": [
      "1.22474487139159\n",
      "1.22474487139159\n",
      "1.22474487139159\n",
      "1.22474487139159\n",
      "1.22474487139159\n",
      "1.22474487139159\n",
      "1.22474487139159\n",
      "1.22474487139159\n",
      "1.22474487139159\n",
      "1.22474487139159\n"
     ]
    },
    {
     "output_type": "display_data",
     "data": {
      "text/plain": [
       "<IPython.core.display.Math object>"
      ],
      "text/latex": [
       "$\\displaystyle  \\text{Why is this: } \\frac{\\sqrt{15} q + \\sqrt{3}}{\\sqrt{10} q + \\sqrt{2}} \\Rightarrow  \\frac{\\sqrt3 + \\sqrt3\\sqrt5q}{\\sqrt2 + \\sqrt2\\sqrt5q}  \\Rightarrow  \\frac{\\sqrt3(1 + \\sqrt5q)}{\\sqrt2(1 + \\sqrt5q)}  \\Rightarrow  \\frac{\\sqrt3}{\\sqrt2}  \\Rightarrow \\frac{\\sqrt{6}}{2} = 1.22474487139159 $"
      ]
     },
     "metadata": {}
    },
    {
     "output_type": "stream",
     "name": "stdout",
     "text": [
      "(sqrt(3) + 6*sqrt(15))/(sqrt(2) + 6*sqrt(10))\n"
     ]
    }
   ],
   "metadata": {}
  },
  {
   "cell_type": "markdown",
   "source": [
    "### 36.0 Expanding Terms\n",
    "- $ a(b+c) = ab + bc $\n",
    "- $ (a+b)(c+d) = (ac + ad) + (bc + bd) = ac + ad + bc + bd $ "
   ],
   "metadata": {}
  },
  {
   "cell_type": "code",
   "execution_count": 23,
   "source": [
    "from sympy.abc import x\n",
    "\n",
    "term1 = (4*x + 5)\n",
    "term2 = x \n",
    "\n",
    "print(term1 * term1)\n",
    "print(sym.expand(term1 * term2))\n",
    "display(Math(sym.latex(sym.expand(term1 * term2))))"
   ],
   "outputs": [
    {
     "output_type": "stream",
     "name": "stdout",
     "text": [
      "(4*x + 5)**2\n",
      "4*x**2 + 5*x\n"
     ]
    },
    {
     "output_type": "display_data",
     "data": {
      "text/plain": [
       "<IPython.core.display.Math object>"
      ],
      "text/latex": [
       "$\\displaystyle 4 x^{2} + 5 x$"
      ]
     },
     "metadata": {}
    }
   ],
   "metadata": {}
  },
  {
   "cell_type": "code",
   "execution_count": 24,
   "source": [
    "term3 = x - 7\n",
    "\n",
    "display(Math(sym.latex(term1 * term3)))\n",
    "display(Math(sym.latex(sym.expand(term1 * term3))))"
   ],
   "outputs": [
    {
     "output_type": "display_data",
     "data": {
      "text/plain": [
       "<IPython.core.display.Math object>"
      ],
      "text/latex": [
       "$\\displaystyle \\left(x - 7\\right) \\left(4 x + 5\\right)$"
      ]
     },
     "metadata": {}
    },
    {
     "output_type": "display_data",
     "data": {
      "text/plain": [
       "<IPython.core.display.Math object>"
      ],
      "text/latex": [
       "$\\displaystyle 4 x^{2} - 23 x - 35$"
      ]
     },
     "metadata": {}
    }
   ],
   "metadata": {}
  },
  {
   "cell_type": "code",
   "execution_count": 26,
   "source": [
    "from sympy.abc import y \n",
    "\n",
    "expr = x*(2*y**2 - 5**x/x)\n",
    "display(Math(sym.latex(expr)))\n",
    "display(Math(sym.latex(sym.expand(expr))))"
   ],
   "outputs": [
    {
     "output_type": "display_data",
     "data": {
      "text/plain": [
       "<IPython.core.display.Math object>"
      ],
      "text/latex": [
       "$\\displaystyle x \\left(- \\frac{5^{x}}{x} + 2 y^{2}\\right)$"
      ]
     },
     "metadata": {}
    },
    {
     "output_type": "display_data",
     "data": {
      "text/plain": [
       "<IPython.core.display.Math object>"
      ],
      "text/latex": [
       "$\\displaystyle - 5^{x} + 2 x y^{2}$"
      ]
     },
     "metadata": {}
    }
   ],
   "metadata": {}
  },
  {
   "cell_type": "code",
   "execution_count": 30,
   "source": [
    "Fxy = (4+x)*(2-y)\n",
    "\n",
    "# Try variable substitution \n",
    "Fxy.subs({x:1, y:0})\n",
    "\n",
    "# Susbstitue for a range \n",
    "numrange = range(0,3)\n",
    "\n",
    "for xi in numrange:\n",
    "    for yi in numrange:\n",
    "        print(f\"When x = {xi} and y = {yi}, f(x,y) = {Fxy.subs({x:xi, y:yi})}\") "
   ],
   "outputs": [
    {
     "output_type": "stream",
     "name": "stdout",
     "text": [
      "When x = 0 and y = 0, f(x,y) = 8\n",
      "When x = 0 and y = 1, f(x,y) = 4\n",
      "When x = 0 and y = 2, f(x,y) = 0\n",
      "When x = 1 and y = 0, f(x,y) = 10\n",
      "When x = 1 and y = 1, f(x,y) = 5\n",
      "When x = 1 and y = 2, f(x,y) = 0\n",
      "When x = 2 and y = 0, f(x,y) = 12\n",
      "When x = 2 and y = 1, f(x,y) = 6\n",
      "When x = 2 and y = 2, f(x,y) = 0\n"
     ]
    }
   ],
   "metadata": {}
  },
  {
   "cell_type": "markdown",
   "source": [
    "### 37.0 Creating and Accing Matrices with Numpy"
   ],
   "metadata": {}
  },
  {
   "cell_type": "markdown",
   "source": [],
   "metadata": {}
  }
 ],
 "metadata": {
  "orig_nbformat": 4,
  "language_info": {
   "name": "python",
   "version": "3.9.6",
   "mimetype": "text/x-python",
   "codemirror_mode": {
    "name": "ipython",
    "version": 3
   },
   "pygments_lexer": "ipython3",
   "nbconvert_exporter": "python",
   "file_extension": ".py"
  },
  "kernelspec": {
   "name": "python3",
   "display_name": "Python 3.9.6 64-bit ('.venv': venv)"
  },
  "interpreter": {
   "hash": "63ba021c118c1bd3faca8caa34dc966b6966c784ba063dbe0904d78b2ae517ea"
  }
 },
 "nbformat": 4,
 "nbformat_minor": 2
}