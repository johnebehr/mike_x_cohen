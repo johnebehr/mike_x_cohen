{
 "cells": [
  {
   "cell_type": "markdown",
   "source": [
    "### 34.0 Solving for x"
   ],
   "metadata": {}
  },
  {
   "cell_type": "code",
   "execution_count": 1,
   "source": [
    "import random\n",
    "import math\n",
    "import sympy as sym \n",
    "import numpy as np\n",
    "\n",
    "from IPython.display import display, Math, Markdown\n",
    "\n",
    "sym.init_printing()"
   ],
   "outputs": [],
   "metadata": {}
  },
  {
   "cell_type": "markdown",
   "source": [
    "- Equations in \"homogeneous\" form - set an equation to $ 0 $\n",
    "    - $ 2x + 4 = 9 \\Rightarrow 2x + 4 -9 = 0 $\n",
    "    - Sympy often works well with homogeneous equations"
   ],
   "metadata": {}
  },
  {
   "cell_type": "code",
   "execution_count": 2,
   "source": [
    "x = sym.symbols('x')\n",
    "\n",
    "# Origional equation: 2x + 4 = 9\n",
    "expr = 2*x + 4 - 9\n",
    "# sym.solve(expr)\n",
    "display(Math(f\"$ \\\\text{{The solution for }} \\\\, {sym.latex(expr)} \\\\, \\\\text{{is}} \\\\, {sym.solve(expr)[0].evalf(2)} $\"))"
   ],
   "outputs": [
    {
     "output_type": "display_data",
     "data": {
      "text/plain": [
       "<IPython.core.display.Math object>"
      ],
      "text/latex": [
       "$\\displaystyle  \\text{The solution for } \\, 2 x - 5 \\, \\text{is} \\, 2.5 $"
      ]
     },
     "metadata": {}
    }
   ],
   "metadata": {}
  },
  {
   "cell_type": "code",
   "execution_count": 3,
   "source": [
    "y = sym.symbols('y')\n",
    "\n",
    "expr2 = x/4 - x * y + 5\n",
    "\n",
    "display(sym.solve(expr2))\n",
    "display(sym.solve(expr2, y))"
   ],
   "outputs": [
    {
     "output_type": "stream",
     "name": "stderr",
     "text": [
      "/home/ubuntu/mike_x_cohen/.venv/lib/python3.9/site-packages/IPython/lib/latextools.py:126: MatplotlibDeprecationWarning: \n",
      "The to_png function was deprecated in Matplotlib 3.4 and will be removed two minor releases later. Use mathtext.math_to_image instead.\n",
      "  mt.to_png(f, s, fontsize=12, dpi=dpi, color=color)\n",
      "/home/ubuntu/mike_x_cohen/.venv/lib/python3.9/site-packages/IPython/lib/latextools.py:126: MatplotlibDeprecationWarning: \n",
      "The to_rgba function was deprecated in Matplotlib 3.4 and will be removed two minor releases later. Use mathtext.math_to_image instead.\n",
      "  mt.to_png(f, s, fontsize=12, dpi=dpi, color=color)\n",
      "/home/ubuntu/mike_x_cohen/.venv/lib/python3.9/site-packages/IPython/lib/latextools.py:126: MatplotlibDeprecationWarning: \n",
      "The to_mask function was deprecated in Matplotlib 3.4 and will be removed two minor releases later. Use mathtext.math_to_image instead.\n",
      "  mt.to_png(f, s, fontsize=12, dpi=dpi, color=color)\n",
      "/home/ubuntu/mike_x_cohen/.venv/lib/python3.9/site-packages/IPython/lib/latextools.py:126: MatplotlibDeprecationWarning: \n",
      "The MathtextBackendBitmap class was deprecated in Matplotlib 3.4 and will be removed two minor releases later. Use mathtext.math_to_image instead.\n",
      "  mt.to_png(f, s, fontsize=12, dpi=dpi, color=color)\n"
     ]
    },
    {
     "output_type": "display_data",
     "data": {
      "text/plain": [
       "⎡⎧      20  ⎫⎤\n",
       "⎢⎨x: ───────⎬⎥\n",
       "⎣⎩   4⋅y - 1⎭⎦"
      ],
      "image/png": "[encoded data removed]",
      "text/latex": [
       "$\\displaystyle \\left[ \\left\\{ x : \\frac{20}{4 y - 1}\\right\\}\\right]$"
      ]
     },
     "metadata": {}
    },
    {
     "output_type": "display_data",
     "data": {
      "text/plain": [
       "⎡x + 20⎤\n",
       "⎢──────⎥\n",
       "⎣ 4⋅x  ⎦"
      ],
      "image/png": "[encoded data removed]",
      "text/latex": [
       "$\\displaystyle \\left[ \\frac{x + 20}{4 x}\\right]$"
      ]
     },
     "metadata": {}
    }
   ],
   "metadata": {}
  },
  {
   "cell_type": "markdown",
   "source": [
    "### 35.0 Solving for x - exercises"
   ],
   "metadata": {}
  },
  {
   "cell_type": "markdown",
   "source": [
    "#### Exercise \\#1\n",
    "- Implement this equation in Sympy\n",
    "    - $ 3q + \\frac{4}{q} + 3 = 5q + \\frac{1}{q} + 1 \\Rightarrow 3q + \\frac{4}{q} + 3 -(5q + \\frac{1}{q} +1) $\n",
    "- Simplify\n",
    "- Solve for $ q $"
   ],
   "metadata": {}
  },
  {
   "cell_type": "code",
   "execution_count": 4,
   "source": [
    "# Setup \n",
    "q = sym.symbols('q')\n",
    "\n",
    "# Implement in Sympy \n",
    "eq1 = 3*q + (4/q) + 3 -(5*q + (1/q) + 1)\n",
    "\n",
    "# Take a look at the equation\n",
    "display(Math(f\"$ \\\\text{{Implement in Sympy: }} {sym.latex(eq1)} $\"))\n",
    "# Simplify\n",
    "display(Math(f\"$ \\\\text{{Apply simplify(): }} {sym.latex(eq1.simplify())} $\"))\n",
    "\n",
    "# Solve for q\n",
    "display(Math(f\"$ \\\\text{{q =  }} {sym.latex(sym.solve(eq1,q))} $\"))"
   ],
   "outputs": [
    {
     "output_type": "display_data",
     "data": {
      "text/plain": [
       "<IPython.core.display.Math object>"
      ],
      "text/latex": [
       "$\\displaystyle  \\text{Implement in Sympy: } - 2 q + 2 + \\frac{3}{q} $"
      ]
     },
     "metadata": {}
    },
    {
     "output_type": "display_data",
     "data": {
      "text/plain": [
       "<IPython.core.display.Math object>"
      ],
      "text/latex": [
       "$\\displaystyle  \\text{Apply simplify(): } - 2 q + 2 + \\frac{3}{q} $"
      ]
     },
     "metadata": {}
    },
    {
     "output_type": "display_data",
     "data": {
      "text/plain": [
       "<IPython.core.display.Math object>"
      ],
      "text/latex": [
       "$\\displaystyle  \\text{q =  } \\left[ \\frac{1}{2} - \\frac{\\sqrt{7}}{2}, \\  \\frac{1}{2} + \\frac{\\sqrt{7}}{2}\\right] $"
      ]
     },
     "metadata": {}
    }
   ],
   "metadata": {}
  },
  {
   "cell_type": "markdown",
   "source": [
    "#### Exercise \\#2\n",
    "- Implement this equation in Sympy:\n",
    "    - $ 2q + 3q^2 - \\frac{5}{q} - \\frac{4}{q^3} $\n",
    "- Apply the functions `simplify` and `cancel`"
   ],
   "metadata": {}
  },
  {
   "cell_type": "code",
   "execution_count": 5,
   "source": [
    "# Implement in Sympy\n",
    "eq2 = 2*q + 3*q**2 - (5/q) - (4/q**3)\n",
    "\n",
    "# Take a look at the equation\n",
    "display(Math(f\"$ \\\\text{{Implement in Sympy: }} {sym.latex(eq2)} $\"))\n",
    "\n",
    "# Use the simplify method\n",
    "display(Math(f\"$ \\\\text{{Simplify: }} {sym.latex(sym.simplify(eq2))} $\"))\n",
    "\n",
    "# Check for canceling terms\n",
    "display(Math(f\"$ \\\\text{{Check for canceling terms: }} {sym.latex(sym.cancel(eq2))} $\"))\n"
   ],
   "outputs": [
    {
     "output_type": "display_data",
     "data": {
      "text/plain": [
       "<IPython.core.display.Math object>"
      ],
      "text/latex": [
       "$\\displaystyle  \\text{Implement in Sympy: } 3 q^{2} + 2 q - \\frac{5}{q} - \\frac{4}{q^{3}} $"
      ]
     },
     "metadata": {}
    },
    {
     "output_type": "display_data",
     "data": {
      "text/plain": [
       "<IPython.core.display.Math object>"
      ],
      "text/latex": [
       "$\\displaystyle  \\text{Simplify: } 3 q^{2} + 2 q - \\frac{5}{q} - \\frac{4}{q^{3}} $"
      ]
     },
     "metadata": {}
    },
    {
     "output_type": "display_data",
     "data": {
      "text/plain": [
       "<IPython.core.display.Math object>"
      ],
      "text/latex": [
       "$\\displaystyle  \\text{Check for canceling terms: } \\frac{3 q^{5} + 2 q^{4} - 5 q^{2} - 4}{q^{3}} $"
      ]
     },
     "metadata": {}
    }
   ],
   "metadata": {}
  },
  {
   "cell_type": "markdown",
   "source": [
    "#### Exercise \\#3\n",
    "- Implement this equation in Sympy:\n",
    "    - $ \\frac{\\sqrt{3} + \\sqrt{15q}}{\\sqrt{2} + \\sqrt{10}q} $\n",
    "- Simplify \n",
    "- Confirm the algebra on your own \n",
    "- Test in Python by substituting numbers for $ q $"
   ],
   "metadata": {}
  },
  {
   "cell_type": "code",
   "execution_count": 6,
   "source": [
    "# Implement in sympy \n",
    "eq3 = (sym.sqrt(3) + sym.sqrt(15) * q) / (sym.sqrt(2) + sym.sqrt(10) * q)\n",
    "\n",
    "# Take a look at the equation\n",
    "display(Math(f\"$ \\\\text{{Implement in Sympy: }} {sym.latex(eq3)} $\"))\n",
    "\n",
    "# Use the simplify method\n",
    "display(Math(f\"$ \\\\text{{Simplify: }} {sym.latex(sym.simplify(eq3))} $\"))"
   ],
   "outputs": [
    {
     "output_type": "display_data",
     "data": {
      "text/plain": [
       "<IPython.core.display.Math object>"
      ],
      "text/latex": [
       "$\\displaystyle  \\text{Implement in Sympy: } \\frac{\\sqrt{15} q + \\sqrt{3}}{\\sqrt{10} q + \\sqrt{2}} $"
      ]
     },
     "metadata": {}
    },
    {
     "output_type": "display_data",
     "data": {
      "text/plain": [
       "<IPython.core.display.Math object>"
      ],
      "text/latex": [
       "$\\displaystyle  \\text{Simplify: } \\frac{\\sqrt{6}}{2} $"
      ]
     },
     "metadata": {}
    }
   ],
   "metadata": {}
  },
  {
   "cell_type": "code",
   "execution_count": 7,
   "source": [
    "# Variable substitution \n",
    "for _ in range(10):\n",
    "    possible_q = random.randint(1,10)\n",
    "\n",
    "    suber = eq3.subs(q, possible_q)\n",
    "\n",
    "    print(suber.evalf())\n",
    "\n",
    "eq3a = f\" \\\\frac{{\\\\sqrt{3} + \\\\sqrt{3}\\\\sqrt{5}q}}{{\\\\sqrt{2} + \\\\sqrt{2}\\\\sqrt{5}q}} \"\n",
    "eq3b = f\" \\\\frac{{\\\\sqrt{3}(1 + \\\\sqrt{5}q)}}{{\\\\sqrt{2}(1 + \\\\sqrt{5}q)}} \"\n",
    "eq3c = f\" \\\\frac{{\\\\sqrt{3}}}{{\\\\sqrt{2}}} \"\n",
    "display(Math(f\"$ \\\\text{{Why is this: }} {sym.latex(eq3)} \\\\Rightarrow {eq3a} \\\\Rightarrow {eq3b} \\\\Rightarrow {eq3c} \\\\Rightarrow {sym.latex(sym.simplify(eq3))} = {suber.evalf()} $\"))\n",
    "\n",
    "print(suber)"
   ],
   "outputs": [
    {
     "output_type": "stream",
     "name": "stdout",
     "text": [
      "1.22474487139159\n",
      "1.22474487139159\n",
      "1.22474487139159\n",
      "1.22474487139159\n",
      "1.22474487139159\n",
      "1.22474487139159\n",
      "1.22474487139159\n",
      "1.22474487139159\n",
      "1.22474487139159\n",
      "1.22474487139159\n"
     ]
    },
    {
     "output_type": "display_data",
     "data": {
      "text/plain": [
       "<IPython.core.display.Math object>"
      ],
      "text/latex": [
       "$\\displaystyle  \\text{Why is this: } \\frac{\\sqrt{15} q + \\sqrt{3}}{\\sqrt{10} q + \\sqrt{2}} \\Rightarrow  \\frac{\\sqrt3 + \\sqrt3\\sqrt5q}{\\sqrt2 + \\sqrt2\\sqrt5q}  \\Rightarrow  \\frac{\\sqrt3(1 + \\sqrt5q)}{\\sqrt2(1 + \\sqrt5q)}  \\Rightarrow  \\frac{\\sqrt3}{\\sqrt2}  \\Rightarrow \\frac{\\sqrt{6}}{2} = 1.22474487139159 $"
      ]
     },
     "metadata": {}
    },
    {
     "output_type": "stream",
     "name": "stdout",
     "text": [
      "(sqrt(3) + sqrt(15))/(sqrt(2) + sqrt(10))\n"
     ]
    }
   ],
   "metadata": {}
  },
  {
   "cell_type": "markdown",
   "source": [
    "### 36.0 Expanding Terms\n",
    "- $ a(b+c) = ab + bc $\n",
    "- $ (a+b)(c+d) = (ac + ad) + (bc + bd) = ac + ad + bc + bd $ "
   ],
   "metadata": {}
  },
  {
   "cell_type": "code",
   "execution_count": 8,
   "source": [
    "from sympy.abc import x\n",
    "\n",
    "term1 = (4*x + 5)\n",
    "term2 = x \n",
    "\n",
    "print(term1 * term1)\n",
    "print(sym.expand(term1 * term2))\n",
    "display(Math(sym.latex(sym.expand(term1 * term2))))"
   ],
   "outputs": [
    {
     "output_type": "stream",
     "name": "stdout",
     "text": [
      "(4*x + 5)**2\n",
      "4*x**2 + 5*x\n"
     ]
    },
    {
     "output_type": "display_data",
     "data": {
      "text/plain": [
       "<IPython.core.display.Math object>"
      ],
      "text/latex": [
       "$\\displaystyle 4 x^{2} + 5 x$"
      ]
     },
     "metadata": {}
    }
   ],
   "metadata": {}
  },
  {
   "cell_type": "code",
   "execution_count": 9,
   "source": [
    "term3 = x - 7\n",
    "\n",
    "display(Math(sym.latex(term1 * term3)))\n",
    "display(Math(sym.latex(sym.expand(term1 * term3))))"
   ],
   "outputs": [
    {
     "output_type": "display_data",
     "data": {
      "text/plain": [
       "<IPython.core.display.Math object>"
      ],
      "text/latex": [
       "$\\displaystyle \\left(x - 7\\right) \\left(4 x + 5\\right)$"
      ]
     },
     "metadata": {}
    },
    {
     "output_type": "display_data",
     "data": {
      "text/plain": [
       "<IPython.core.display.Math object>"
      ],
      "text/latex": [
       "$\\displaystyle 4 x^{2} - 23 x - 35$"
      ]
     },
     "metadata": {}
    }
   ],
   "metadata": {}
  },
  {
   "cell_type": "code",
   "execution_count": 10,
   "source": [
    "from sympy.abc import y \n",
    "\n",
    "expr = x*(2*y**2 - 5**x/x)\n",
    "display(Math(sym.latex(expr)))\n",
    "display(Math(sym.latex(sym.expand(expr))))"
   ],
   "outputs": [
    {
     "output_type": "display_data",
     "data": {
      "text/plain": [
       "<IPython.core.display.Math object>"
      ],
      "text/latex": [
       "$\\displaystyle x \\left(- \\frac{5^{x}}{x} + 2 y^{2}\\right)$"
      ]
     },
     "metadata": {}
    },
    {
     "output_type": "display_data",
     "data": {
      "text/plain": [
       "<IPython.core.display.Math object>"
      ],
      "text/latex": [
       "$\\displaystyle - 5^{x} + 2 x y^{2}$"
      ]
     },
     "metadata": {}
    }
   ],
   "metadata": {}
  },
  {
   "cell_type": "code",
   "execution_count": 11,
   "source": [
    "Fxy = (4+x)*(2-y)\n",
    "\n",
    "# Try variable substitution \n",
    "Fxy.subs({x:1, y:0})\n",
    "\n",
    "# Susbstitue for a range \n",
    "numrange = range(0,3)\n",
    "\n",
    "for xi in numrange:\n",
    "    for yi in numrange:\n",
    "        print(f\"When x = {xi} and y = {yi}, f(x,y) = {Fxy.subs({x:xi, y:yi})}\") "
   ],
   "outputs": [
    {
     "output_type": "stream",
     "name": "stdout",
     "text": [
      "When x = 0 and y = 0, f(x,y) = 8\n",
      "When x = 0 and y = 1, f(x,y) = 4\n",
      "When x = 0 and y = 2, f(x,y) = 0\n",
      "When x = 1 and y = 0, f(x,y) = 10\n",
      "When x = 1 and y = 1, f(x,y) = 5\n",
      "When x = 1 and y = 2, f(x,y) = 0\n",
      "When x = 2 and y = 0, f(x,y) = 12\n",
      "When x = 2 and y = 1, f(x,y) = 6\n",
      "When x = 2 and y = 2, f(x,y) = 0\n"
     ]
    }
   ],
   "metadata": {}
  },
  {
   "cell_type": "markdown",
   "source": [
    "### 37.0 Creating and Accessing Matrices with Numpy\n",
    "- Matrix: an ordered set of numbers\n",
    "    - $\\begin{bmatrix*}[r] -1 & 0 & 2 & 8 \\\\ 0 & 1 & 4 & 4 \\\\ 1 & 4 & 9 & 1 \\end{bmatrix*} \\quad \\ne \\quad \\begin{bmatrix*}[r] -1 & 0 & 2 & 8 \\\\ 0 & 4 & 1 & 4 \\\\ 1 & 4 & 9 & 1 \\end{bmatrix*} $\n",
    "    \n",
    "\n"
   ],
   "metadata": {}
  },
  {
   "cell_type": "code",
   "execution_count": 12,
   "source": [
    "# Creating a matrix manually\n",
    "A = np.array([[1,2],[3,4]])\n",
    "\n",
    "print(A)\n",
    "display(Math(sym.latex(sym.sympify(A))))\n",
    "\n",
    "# Create an zero matrix \n",
    "mat = np.zeros([4,6])\n",
    "\n",
    "display(mat)\n",
    "\n",
    "# Assign a value at a matrix cooridinate\n",
    "mat[0,1] = 2\n",
    "mat[2,4] = 7 \n",
    "\n",
    "display(mat)"
   ],
   "outputs": [
    {
     "output_type": "stream",
     "name": "stdout",
     "text": [
      "[[1 2]\n",
      " [3 4]]\n"
     ]
    },
    {
     "output_type": "display_data",
     "data": {
      "text/plain": [
       "<IPython.core.display.Math object>"
      ],
      "text/latex": [
       "$\\displaystyle \\left[\\begin{matrix}1 & 2\\\\3 & 4\\end{matrix}\\right]$"
      ]
     },
     "metadata": {}
    },
    {
     "output_type": "display_data",
     "data": {
      "text/plain": [
       "array([[0., 0., 0., 0., 0., 0.],\n",
       "       [0., 0., 0., 0., 0., 0.],\n",
       "       [0., 0., 0., 0., 0., 0.],\n",
       "       [0., 0., 0., 0., 0., 0.]])"
      ]
     },
     "metadata": {}
    },
    {
     "output_type": "display_data",
     "data": {
      "text/plain": [
       "array([[0., 2., 0., 0., 0., 0.],\n",
       "       [0., 0., 0., 0., 0., 0.],\n",
       "       [0., 0., 0., 0., 7., 0.],\n",
       "       [0., 0., 0., 0., 0., 0.]])"
      ]
     },
     "metadata": {}
    }
   ],
   "metadata": {}
  },
  {
   "cell_type": "code",
   "execution_count": 13,
   "source": [
    "numrange = range(0,2)\n",
    "\n",
    "for rowi in numrange:\n",
    "    for coli in numrange:\n",
    "        mat[rowi, coli] = (-1)**(rowi+coli)\n",
    "\n",
    "display(mat)"
   ],
   "outputs": [
    {
     "output_type": "display_data",
     "data": {
      "text/plain": [
       "array([[ 1., -1.,  0.,  0.,  0.,  0.],\n",
       "       [-1.,  1.,  0.,  0.,  0.,  0.],\n",
       "       [ 0.,  0.,  0.,  0.,  7.,  0.],\n",
       "       [ 0.,  0.,  0.,  0.,  0.,  0.]])"
      ]
     },
     "metadata": {}
    }
   ],
   "metadata": {}
  },
  {
   "cell_type": "markdown",
   "source": [
    "#### 37.0 Matrices exercise\n",
    "- Construct a matrix that implements this function:\n",
    "    - $ f(x,y) = (4+x)(2-y) : x,y \\in {0,1,2} $"
   ],
   "metadata": {}
  },
  {
   "cell_type": "code",
   "execution_count": 14,
   "source": [
    "Fxy = (4+x)*(2-y)\n",
    "\n",
    "xyset = range(0,3)\n",
    "\n",
    "outmat = np.zeros([len(xyset), len(xyset)])\n",
    "\n",
    "for rowi in xyset:\n",
    "    for coli in xyset:\n",
    "        outmat[rowi, coli] = Fxy.subs({x:rowi, y:coli})\n",
    "\n",
    "display(Math(f\"$ {sym.latex(sym.sympify(outmat))} $\"))"
   ],
   "outputs": [
    {
     "output_type": "display_data",
     "data": {
      "text/plain": [
       "<IPython.core.display.Math object>"
      ],
      "text/latex": [
       "$\\displaystyle  \\left[\\begin{matrix}8.0 & 4.0 & 0.0\\\\10.0 & 5.0 & 0.0\\\\12.0 & 6.0 & 0.0\\end{matrix}\\right] $"
      ]
     },
     "metadata": {}
    }
   ],
   "metadata": {}
  },
  {
   "cell_type": "markdown",
   "source": [
    "### 38.0 Exercise: Create A Multiplication Table \n"
   ],
   "metadata": {}
  },
  {
   "cell_type": "code",
   "execution_count": 15,
   "source": [
    "nums = range(1,11)\n",
    "\n",
    "matmulti = np.zeros((len(nums),len(nums)), dtype=int)\n",
    "\n",
    "for rowi in nums:\n",
    "    for coli in nums:\n",
    "        matmulti[rowi-1,coli-1] = rowi*coli\n",
    "\n",
    "display(Math(sym.latex(sym.sympify(matmulti))))"
   ],
   "outputs": [
    {
     "output_type": "display_data",
     "data": {
      "text/plain": [
       "<IPython.core.display.Math object>"
      ],
      "text/latex": [
       "$\\displaystyle \\left[\\begin{matrix}1 & 2 & 3 & 4 & 5 & 6 & 7 & 8 & 9 & 10\\\\2 & 4 & 6 & 8 & 10 & 12 & 14 & 16 & 18 & 20\\\\3 & 6 & 9 & 12 & 15 & 18 & 21 & 24 & 27 & 30\\\\4 & 8 & 12 & 16 & 20 & 24 & 28 & 32 & 36 & 40\\\\5 & 10 & 15 & 20 & 25 & 30 & 35 & 40 & 45 & 50\\\\6 & 12 & 18 & 24 & 30 & 36 & 42 & 48 & 54 & 60\\\\7 & 14 & 21 & 28 & 35 & 42 & 49 & 56 & 63 & 70\\\\8 & 16 & 24 & 32 & 40 & 48 & 56 & 64 & 72 & 80\\\\9 & 18 & 27 & 36 & 45 & 54 & 63 & 72 & 81 & 90\\\\10 & 20 & 30 & 40 & 50 & 60 & 70 & 80 & 90 & 100\\end{matrix}\\right]$"
      ]
     },
     "metadata": {}
    }
   ],
   "metadata": {}
  },
  {
   "cell_type": "markdown",
   "source": [
    "### 39.0 Associative, Commutative, And Distributative Properties\n",
    "### 40.0 Creating And Working With Python Lists \n",
    "### 41.0 More on \"Slicing\" In Python \n",
    "### 42.0 Greatest Common Denominator (Greatest Common Factor)\n",
    "- $ gcd(2,4) = 2 $\n",
    "- $ gcd(6,15) = 3 $\n",
    "- Reducing fractions:\n",
    "    - $ gcd(a,b) = c \\Rightarrow \\frac{a}{b} = \\frac{\\frac{a}{c} \\times c}{\\frac{b}{c} \\times c} = \\frac{a/c}{b/c} $\n"
   ],
   "metadata": {}
  },
  {
   "cell_type": "code",
   "execution_count": 16,
   "source": [
    "a = 16\n",
    "b = 88 \n",
    "\n",
    "fact = math.gcd(a,b)\n",
    "\n",
    "display(Math(\"\\\\frac{%g}{%g} = \\\\frac{%g \\\\times %g}{%g \\\\times %g} = \\\\frac{%g}{%g}\" %(a,b,a/fact,fact,b/fact,fact,a/fact,b/fact)))"
   ],
   "outputs": [
    {
     "output_type": "display_data",
     "data": {
      "text/plain": [
       "<IPython.core.display.Math object>"
      ],
      "text/latex": [
       "$\\displaystyle \\frac{16}{88} = \\frac{2 \\times 8}{11 \\times 8} = \\frac{2}{11}$"
      ]
     },
     "metadata": {}
    }
   ],
   "metadata": {}
  },
  {
   "cell_type": "markdown",
   "source": [
    "### 43.0 GCD (Greatest Common Denominator) Exercises \n",
    "- 1\\) Illustrae the following property using symbolic variables. Then show an example with numbers\n",
    "    - $ gcd(ca,cb) = cgcd(a,b) $\n",
    "- 2\\) Create a matrix that contains 10 rows and 15 columns, where each element = 99. Then populate the matrix such that the i<sup>th</sup> row and j<sup>th</sup> column contains gcd(i+1, j+1)"
   ],
   "metadata": {}
  },
  {
   "cell_type": "code",
   "execution_count": 17,
   "source": [
    "# 1\n",
    "a,b,c = sym.symbols(\"a,b,c\")\n",
    "\n",
    "print(sym.gcd(a*c, b*c))\n",
    "print(c*sym.gcd(a,b))\n",
    "\n",
    "a = 15\n",
    "b = 6 \n",
    "c = 3\n",
    "\n",
    "print(math.gcd(a*c, b*c))\n",
    "print(c*math.gcd(a,b))"
   ],
   "outputs": [
    {
     "output_type": "stream",
     "name": "stdout",
     "text": [
      "c\n",
      "c\n",
      "9\n",
      "9\n"
     ]
    }
   ],
   "metadata": {}
  },
  {
   "cell_type": "code",
   "execution_count": 18,
   "source": [
    "# 2\n",
    "rowi = 10 \n",
    "coli = 15 \n",
    "\n",
    "gcdMat = np.zeros([rowi, coli])+99 \n",
    "\n",
    "for r in range(0,rowi):\n",
    "    for c in range(0,coli):\n",
    "        gcdMat[r,c] = math.gcd(r+1, c+1)\n",
    "\n",
    "display(Math(sym.latex(sym.sympify(gcdMat))))"
   ],
   "outputs": [
    {
     "output_type": "display_data",
     "data": {
      "text/plain": [
       "<IPython.core.display.Math object>"
      ],
      "text/latex": [
       "$\\displaystyle \\left[\\begin{array}1.0 & 1.0 & 1.0 & 1.0 & 1.0 & 1.0 & 1.0 & 1.0 & 1.0 & 1.0 & 1.0 & 1.0 & 1.0 & 1.0 & 1.0\\\\1.0 & 2.0 & 1.0 & 2.0 & 1.0 & 2.0 & 1.0 & 2.0 & 1.0 & 2.0 & 1.0 & 2.0 & 1.0 & 2.0 & 1.0\\\\1.0 & 1.0 & 3.0 & 1.0 & 1.0 & 3.0 & 1.0 & 1.0 & 3.0 & 1.0 & 1.0 & 3.0 & 1.0 & 1.0 & 3.0\\\\1.0 & 2.0 & 1.0 & 4.0 & 1.0 & 2.0 & 1.0 & 4.0 & 1.0 & 2.0 & 1.0 & 4.0 & 1.0 & 2.0 & 1.0\\\\1.0 & 1.0 & 1.0 & 1.0 & 5.0 & 1.0 & 1.0 & 1.0 & 1.0 & 5.0 & 1.0 & 1.0 & 1.0 & 1.0 & 5.0\\\\1.0 & 2.0 & 3.0 & 2.0 & 1.0 & 6.0 & 1.0 & 2.0 & 3.0 & 2.0 & 1.0 & 6.0 & 1.0 & 2.0 & 3.0\\\\1.0 & 1.0 & 1.0 & 1.0 & 1.0 & 1.0 & 7.0 & 1.0 & 1.0 & 1.0 & 1.0 & 1.0 & 1.0 & 7.0 & 1.0\\\\1.0 & 2.0 & 1.0 & 4.0 & 1.0 & 2.0 & 1.0 & 8.0 & 1.0 & 2.0 & 1.0 & 4.0 & 1.0 & 2.0 & 1.0\\\\1.0 & 1.0 & 3.0 & 1.0 & 1.0 & 3.0 & 1.0 & 1.0 & 9.0 & 1.0 & 1.0 & 3.0 & 1.0 & 1.0 & 3.0\\\\1.0 & 2.0 & 1.0 & 2.0 & 5.0 & 2.0 & 1.0 & 2.0 & 1.0 & 10.0 & 1.0 & 2.0 & 1.0 & 2.0 & 5.0\\end{array}\\right]$"
      ]
     },
     "metadata": {}
    }
   ],
   "metadata": {}
  },
  {
   "cell_type": "markdown",
   "source": [
    "### 44.0 Introduction to Python Dictionaries\n",
    "- Equations solving for X:\n",
    "    - $ 4x - 6 =0 \\quad \\Rightarrow \\quad X = \\left[ \\frac{3}{2} \\right] $\n",
    "    - $ x^2 - 9 = 0 \\quad \\Rightarrow \\quad X = [-3, 3] $\n",
    "- Equations solving for Y:\n",
    "    - $ sin(y) = 0 \\quad \\Rightarrow \\quad Y = [0, \\pi] $"
   ],
   "metadata": {}
  },
  {
   "cell_type": "code",
   "execution_count": 19,
   "source": [
    "D = dict(eqsWithX = [4*x-6, x**2-9], eqsWtithY = [sym.sin(y)])\n",
    "\n",
    "for keyi in D:\n",
    "    print(f\"Solutions for equations involving {keyi}: \")\n",
    "\n",
    "    for eqi in D[keyi]:\n",
    "        leftpart = f\" {sym.latex(eqi)} = 0 \"\n",
    "        midpart = f\"\\\\quad \\\\Rightarrow \\\\quad\"\n",
    "        rightpart = sym.latex(sym.solve(eqi))\n",
    "\n",
    "        display(Math(f\"$ {leftpart} {midpart} {keyi[-1]} = {rightpart} $\"))"
   ],
   "outputs": [
    {
     "output_type": "stream",
     "name": "stdout",
     "text": [
      "Solutions for equations involving eqsWithX: \n"
     ]
    },
    {
     "output_type": "display_data",
     "data": {
      "text/plain": [
       "<IPython.core.display.Math object>"
      ],
      "text/latex": [
       "$\\displaystyle   4 x - 6 = 0  \\quad \\Rightarrow \\quad X = \\left[ \\frac{3}{2}\\right] $"
      ]
     },
     "metadata": {}
    },
    {
     "output_type": "display_data",
     "data": {
      "text/plain": [
       "<IPython.core.display.Math object>"
      ],
      "text/latex": [
       "$\\displaystyle   x^{2} - 9 = 0  \\quad \\Rightarrow \\quad X = \\left[ -3, \\  3\\right] $"
      ]
     },
     "metadata": {}
    },
    {
     "output_type": "stream",
     "name": "stdout",
     "text": [
      "Solutions for equations involving eqsWtithY: \n"
     ]
    },
    {
     "output_type": "display_data",
     "data": {
      "text/plain": [
       "<IPython.core.display.Math object>"
      ],
      "text/latex": [
       "$\\displaystyle   \\sin{\\left(y \\right)} = 0  \\quad \\Rightarrow \\quad Y = \\left[ 0, \\  \\pi\\right] $"
      ]
     },
     "metadata": {}
    }
   ],
   "metadata": {}
  },
  {
   "cell_type": "markdown",
   "source": [
    "### 45.0 Prime Factorization\n"
   ],
   "metadata": {}
  },
  {
   "cell_type": "code",
   "execution_count": 20,
   "source": [
    "number = 48 \n",
    "\n",
    "fact_dict = sym.factorint(number)\n",
    "\n",
    "# Show the factorization, the prime factors are the keys\n",
    "print(fact_dict)\n",
    "\n",
    "# Show the prime factors only  \n",
    "print(list(fact_dict.keys()))"
   ],
   "outputs": [
    {
     "output_type": "stream",
     "name": "stdout",
     "text": [
      "{2: 4, 3: 1}\n",
      "[2, 3]\n"
     ]
    }
   ],
   "metadata": {}
  },
  {
   "cell_type": "code",
   "execution_count": 21,
   "source": [
    "for i in range(2,51):\n",
    "    is_prime = sym.factorint(i)\n",
    "    \n",
    "    if (len(is_prime.keys()) == 1) & (list(is_prime.keys())[0] == i):\n",
    "        print(f\"{i} is a prime number\")\n",
    "    else:\n",
    "        print(f\"{i} is a coposite with prime factors {list(is_prime.keys())}\")"
   ],
   "outputs": [
    {
     "output_type": "stream",
     "name": "stdout",
     "text": [
      "2 is a prime number\n",
      "3 is a prime number\n",
      "4 is a coposite with prime factors [2]\n",
      "5 is a prime number\n",
      "6 is a coposite with prime factors [2, 3]\n",
      "7 is a prime number\n",
      "8 is a coposite with prime factors [2]\n",
      "9 is a coposite with prime factors [3]\n",
      "10 is a coposite with prime factors [2, 5]\n",
      "11 is a prime number\n",
      "12 is a coposite with prime factors [2, 3]\n",
      "13 is a prime number\n",
      "14 is a coposite with prime factors [2, 7]\n",
      "15 is a coposite with prime factors [3, 5]\n",
      "16 is a coposite with prime factors [2]\n",
      "17 is a prime number\n",
      "18 is a coposite with prime factors [2, 3]\n",
      "19 is a prime number\n",
      "20 is a coposite with prime factors [2, 5]\n",
      "21 is a coposite with prime factors [3, 7]\n",
      "22 is a coposite with prime factors [2, 11]\n",
      "23 is a prime number\n",
      "24 is a coposite with prime factors [2, 3]\n",
      "25 is a coposite with prime factors [5]\n",
      "26 is a coposite with prime factors [2, 13]\n",
      "27 is a coposite with prime factors [3]\n",
      "28 is a coposite with prime factors [2, 7]\n",
      "29 is a prime number\n",
      "30 is a coposite with prime factors [2, 3, 5]\n",
      "31 is a prime number\n",
      "32 is a coposite with prime factors [2]\n",
      "33 is a coposite with prime factors [3, 11]\n",
      "34 is a coposite with prime factors [2, 17]\n",
      "35 is a coposite with prime factors [5, 7]\n",
      "36 is a coposite with prime factors [2, 3]\n",
      "37 is a prime number\n",
      "38 is a coposite with prime factors [2, 19]\n",
      "39 is a coposite with prime factors [3, 13]\n",
      "40 is a coposite with prime factors [2, 5]\n",
      "41 is a prime number\n",
      "42 is a coposite with prime factors [2, 3, 7]\n",
      "43 is a prime number\n",
      "44 is a coposite with prime factors [2, 11]\n",
      "45 is a coposite with prime factors [3, 5]\n",
      "46 is a coposite with prime factors [2, 23]\n",
      "47 is a prime number\n",
      "48 is a coposite with prime factors [2, 3]\n",
      "49 is a coposite with prime factors [7]\n",
      "50 is a coposite with prime factors [2, 5]\n"
     ]
    }
   ],
   "metadata": {}
  },
  {
   "cell_type": "markdown",
   "source": [
    "### 46.0 Solving Inequalities\n",
    "- Like: $ 4x > 8 $"
   ],
   "metadata": {}
  },
  {
   "cell_type": "code",
   "execution_count": 22,
   "source": [
    "expr = 4*x > 8\n",
    "\n",
    "display(Math(sym.latex(sym.solve(expr))))\n",
    "\n",
    "expr = (x-1)*(x+3) > 0\n",
    "\n",
    "display(Math(sym.latex(sym.solve(expr))))"
   ],
   "outputs": [
    {
     "output_type": "display_data",
     "data": {
      "text/plain": [
       "<IPython.core.display.Math object>"
      ],
      "text/latex": [
       "$\\displaystyle 2 < x \\wedge x < \\infty$"
      ]
     },
     "metadata": {}
    },
    {
     "output_type": "display_data",
     "data": {
      "text/plain": [
       "<IPython.core.display.Math object>"
      ],
      "text/latex": [
       "$\\displaystyle \\left(-\\infty < x \\wedge x < -3\\right) \\vee \\left(1 < x \\wedge x < \\infty\\right)$"
      ]
     },
     "metadata": {}
    }
   ],
   "metadata": {}
  },
  {
   "cell_type": "code",
   "execution_count": 23,
   "source": [
    "a,b,c = sym.symbols('a,b,c')\n",
    "\n",
    "ex = a*x > b**2/c\n",
    "display(Math(sym.latex(ex)))"
   ],
   "outputs": [
    {
     "output_type": "display_data",
     "data": {
      "text/plain": [
       "<IPython.core.display.Math object>"
      ],
      "text/latex": [
       "$\\displaystyle a x > \\frac{b^{2}}{c}$"
      ]
     },
     "metadata": {}
    }
   ],
   "metadata": {}
  },
  {
   "cell_type": "markdown",
   "source": [
    "#### Exercise:\n",
    "- $ \\frac{3x}{2} + \\frac{4 - 5x}{3} \\leq 2 - \\frac{5(2-x)}{4} $"
   ],
   "metadata": {}
  },
  {
   "cell_type": "code",
   "execution_count": 24,
   "source": [
    "eq1 = 3*x/2 + (4-5*x)/3 <= 2 - (5*(2-x))/4\n",
    "\n",
    "display(Math(sym.latex(eq1)))\n",
    "display(Math(sym.latex(sym.solve(eq1, x))))"
   ],
   "outputs": [
    {
     "output_type": "display_data",
     "data": {
      "text/plain": [
       "<IPython.core.display.Math object>"
      ],
      "text/latex": [
       "$\\displaystyle \\frac{4}{3} - \\frac{x}{6} \\leq \\frac{5 x}{4} - \\frac{1}{2}$"
      ]
     },
     "metadata": {}
    },
    {
     "output_type": "display_data",
     "data": {
      "text/plain": [
       "<IPython.core.display.Math object>"
      ],
      "text/latex": [
       "$\\displaystyle \\frac{22}{17} \\leq x \\wedge x < \\infty$"
      ]
     },
     "metadata": {}
    }
   ],
   "metadata": {}
  },
  {
   "cell_type": "markdown",
   "source": [
    "### 47.0 Adding Polynomials\n",
    "- Polynomial expressions: $ a_0 + a_1x + a_2x^2 + \\ldots + a_nx^n $"
   ],
   "metadata": {}
  },
  {
   "cell_type": "code",
   "execution_count": 25,
   "source": [
    "p1 = 2*x**3 + x**2 - x\n",
    "p2 = x**3 - x**4 - 4*x**2\n",
    "\n",
    "display(Math(sym.latex(p2)))\n",
    "display(Math(f\"({sym.latex(p1)}) + ({sym.latex(p2)}) = {sym.latex(p1 + p2)}\"))"
   ],
   "outputs": [
    {
     "output_type": "display_data",
     "data": {
      "text/plain": [
       "<IPython.core.display.Math object>"
      ],
      "text/latex": [
       "$\\displaystyle - x^{4} + x^{3} - 4 x^{2}$"
      ]
     },
     "metadata": {}
    },
    {
     "output_type": "display_data",
     "data": {
      "text/plain": [
       "<IPython.core.display.Math object>"
      ],
      "text/latex": [
       "$\\displaystyle (2 x^{3} + x^{2} - x) + (- x^{4} + x^{3} - 4 x^{2}) = - x^{4} + 3 x^{3} - 3 x^{2} - x$"
      ]
     },
     "metadata": {}
    }
   ],
   "metadata": {}
  },
  {
   "cell_type": "code",
   "execution_count": 26,
   "source": [
    "# Another way to create polynomial expressions\n",
    "p3 = sym.Poly(2*x**3 + x**2 - x)\n",
    "\n",
    "print(p3)\n",
    "\n",
    "# Get a list of the coefficients\n",
    "print(p3.coeffs())\n",
    "\n",
    "# Print the degree of the polynomial\n",
    "print(p3.degree())"
   ],
   "outputs": [
    {
     "output_type": "stream",
     "name": "stdout",
     "text": [
      "Poly(2*x**3 + x**2 - x, x, domain='ZZ')\n",
      "[2, 1, -1]\n",
      "3\n"
     ]
    }
   ],
   "metadata": {}
  },
  {
   "cell_type": "markdown",
   "source": [
    "#### Exercises \n",
    "- Implement these polynomials as a Python list:\n",
    "    - $ x^2 + 2x $\n",
    "    - $ -x^3 + 4x $\n",
    "    - $ x^5 - x^4 + x/4 + 4 $\n",
    "- For each polynomial:\n",
    "    - If the degree is even, sum the coefficients\n",
    "    - If the degree is odd, count the coefficients\n",
    "    "
   ],
   "metadata": {}
  },
  {
   "cell_type": "code",
   "execution_count": 27,
   "source": [
    "# Implement the polynomials as a Python list\n",
    "ex1 = sym.Poly(x**2 + 2*x) \n",
    "ex2 = sym.Poly(-x**3 + 4*x) \n",
    "ex3 = sym.Poly(x**5 - x**4 + x/4 + 4)\n",
    "\n",
    "polys = [ex1, ex2, ex3]\n",
    "\n",
    "for poly in polys:\n",
    "    if poly.degree()%2 == 1:\n",
    "        # print(len(poly.coeffs()))\n",
    "        # display(Math(f\"\\\\text{'The degree of'} {sym.latex(poly.as_expr())} is odd and there are {len(poly.coeffs())} coefficients\"))\n",
    "        print(f\"The degree of {poly.as_expr()} is odd and there are {len(poly.coeffs())} coefficients\")\n",
    "    else:\n",
    "        # print(sum(poly.coeffs()))\n",
    "        print(f\"The degree of {poly.as_expr()} is even and the coeffients sum to {sum(poly.coeffs())}\")"
   ],
   "outputs": [
    {
     "output_type": "stream",
     "name": "stdout",
     "text": [
      "The degree of x**2 + 2*x is even and the coeffients sum to 3\n",
      "The degree of -x**3 + 4*x is odd and there are 2 coefficients\n",
      "The degree of x**5 - x**4 + x/4 + 4 is odd and there are 4 coefficients\n"
     ]
    }
   ],
   "metadata": {}
  },
  {
   "cell_type": "markdown",
   "source": [
    "### 48.0 Multiplying Polynomials\n",
    "- Remember the rule of Exponents\n",
    "    - $ y^a \\cdot x^a \\cdot x^b = y^a * x^{a+b} $"
   ],
   "metadata": {}
  },
  {
   "cell_type": "markdown",
   "source": [],
   "metadata": {}
  },
  {
   "cell_type": "code",
   "execution_count": 28,
   "source": [
    "p1 = 4*x**2 - 2*x \n",
    "p2 = x**3 -1 \n",
    "\n",
    "display(Math(sym.latex(p1*p2)))\n",
    "display(Math(sym.latex(sym.expand(p1*p2))))"
   ],
   "outputs": [
    {
     "output_type": "display_data",
     "data": {
      "text/plain": [
       "<IPython.core.display.Math object>"
      ],
      "text/latex": [
       "$\\displaystyle \\left(4 x^{2} - 2 x\\right) \\left(x^{3} - 1\\right)$"
      ]
     },
     "metadata": {}
    },
    {
     "output_type": "display_data",
     "data": {
      "text/plain": [
       "<IPython.core.display.Math object>"
      ],
      "text/latex": [
       "$\\displaystyle 4 x^{5} - 2 x^{4} - 4 x^{2} + 2 x$"
      ]
     },
     "metadata": {}
    }
   ],
   "metadata": {}
  },
  {
   "cell_type": "markdown",
   "source": [
    "#### Implement these polynomials\n",
    "- 1\\) Multiply the polynomials and then substitute $ x=5, y=-2 $\n",
    "    - $ f(x,y) = 4x^4 - 3x^2 + xy^2 - 9y^3 $\n",
    "    - $ g(x,y) = -x^3 + 6x^2y + .8y^3 $\n",
    "- 2\\) Substitute $ x=5, y=-2 $ into each polynomial then multiply\n",
    "    \n"
   ],
   "metadata": {}
  },
  {
   "cell_type": "code",
   "execution_count": 29,
   "source": [
    "fxy = 4*x**4 - 9*y**3 - 3*x**2 + x*y**2 \n",
    "gxy = .8*y**3 - x**3 + 6*x**2*y \n",
    "\n",
    "# Multiply the polynomials\n",
    "display(Math(\"$ ({0}) \\\\times ({1}) = {2} $\".format(sym.latex(fxy), sym.latex(gxy), sym.latex(sym.expand(fxy*gxy)))))"
   ],
   "outputs": [
    {
     "output_type": "display_data",
     "data": {
      "text/plain": [
       "<IPython.core.display.Math object>"
      ],
      "text/latex": [
       "$\\displaystyle  (4 x^{4} - 3 x^{2} + x y^{2} - 9 y^{3}) \\times (- x^{3} + 6 x^{2} y + 0.8 y^{3}) = - 4 x^{7} + 24 x^{6} y + 3 x^{5} + 3.2 x^{4} y^{3} - x^{4} y^{2} - 18 x^{4} y + 15 x^{3} y^{3} - 54 x^{2} y^{4} - 2.4 x^{2} y^{3} + 0.8 x y^{5} - 7.2 y^{6} $"
      ]
     },
     "metadata": {}
    }
   ],
   "metadata": {}
  },
  {
   "cell_type": "code",
   "execution_count": 30,
   "source": [
    "xval = 5 \n",
    "yval = -2 \n",
    "\n",
    "# Substitute for the multiplied solution\n",
    "fg = (fxy*gxy).subs({x:xval, y:yval})\n",
    "\n",
    "print(\"Multiplied solutions is {0:.2f}\".format(fg))\n",
    "\n",
    "# Substitute in each equation \n",
    "fxy_ans = fxy.subs({x:xval, y:yval})\n",
    "gxy_ans = gxy.subs({x:xval, y:yval})\n",
    "\n",
    "print('Separate solutions comes to {0:.2f}'.format(fxy_ans * gxy_ans)) # This works because it is a linear operation"
   ],
   "outputs": [
    {
     "output_type": "stream",
     "name": "stdout",
     "text": [
      "Multiplied solutions is -1085833.80\n",
      "Separate solutions comes to -1085833.80\n"
     ]
    }
   ],
   "metadata": {}
  },
  {
   "cell_type": "markdown",
   "source": [
    "#### 49.0 Ddividing by Polynomials \n",
    "- $ Ex.\\,) \\quad \\frac{2x^2 - 4x + 6}{x + 4} = x + 4 \\medspace \\overline{\\smash{\\rparen} \\medspace 2x^2 - 4x + 6 \\medspace} $"
   ],
   "metadata": {}
  },
  {
   "cell_type": "code",
   "execution_count": 31,
   "source": [
    "p1 = 4*x**5 - x\n",
    "p2 = 2*x**3 - x \n",
    "\n",
    "display(Math('$ \\\\frac{%s}{%s} = %s $' %(sym.latex(p1), sym.latex(p2), sym.latex(p1/p2))))\n",
    "display(Math('$ \\\\frac{%s}{%s} = %s $' %(sym.latex(p1), sym.latex(p2), sym.latex(sym.expand(p1/p2)))))\n",
    "display(Math('$ \\\\frac{%s}{%s} = %s $' %(sym.latex(p1), sym.latex(p2), sym.latex(sym.simplify(p1/p2)))))"
   ],
   "outputs": [
    {
     "output_type": "display_data",
     "data": {
      "text/plain": [
       "<IPython.core.display.Math object>"
      ],
      "text/latex": [
       "$\\displaystyle  \\frac{4 x^{5} - x}{2 x^{3} - x} = \\frac{4 x^{5} - x}{2 x^{3} - x} $"
      ]
     },
     "metadata": {}
    },
    {
     "output_type": "display_data",
     "data": {
      "text/plain": [
       "<IPython.core.display.Math object>"
      ],
      "text/latex": [
       "$\\displaystyle  \\frac{4 x^{5} - x}{2 x^{3} - x} = \\frac{4 x^{5}}{2 x^{3} - x} - \\frac{x}{2 x^{3} - x} $"
      ]
     },
     "metadata": {}
    },
    {
     "output_type": "display_data",
     "data": {
      "text/plain": [
       "<IPython.core.display.Math object>"
      ],
      "text/latex": [
       "$\\displaystyle  \\frac{4 x^{5} - x}{2 x^{3} - x} = 2 x^{2} + 1 $"
      ]
     },
     "metadata": {}
    }
   ],
   "metadata": {}
  },
  {
   "cell_type": "markdown",
   "source": [
    "### Exercise\n",
    "- For the following polynomial division, find the vaue of $ y $ that eliminates the denominator\n",
    "    - Hint: use the function ```sym.fraction```\n",
    "    - $ \\frac{x^6 + 2x^4 + 6x - y}{x^3 + 3}, y \\isin \\{5, 6, \\dots 15 \\} $"
   ],
   "metadata": {}
  },
  {
   "cell_type": "markdown",
   "source": [],
   "metadata": {}
  },
  {
   "cell_type": "code",
   "execution_count": 32,
   "source": [
    "# Fraction function primer\n",
    "f = sym.sympify(3)/4\n",
    "f2 = sym.sympify(3)\n",
    "\n",
    "finfo = sym.fraction(f)\n",
    "f2info = sym.fraction(f2)\n",
    "print(finfo)\n",
    "print(f2info)"
   ],
   "outputs": [
    {
     "output_type": "stream",
     "name": "stdout",
     "text": [
      "(3, 4)\n",
      "(3, 1)\n"
     ]
    }
   ],
   "metadata": {}
  },
  {
   "cell_type": "code",
   "execution_count": 33,
   "source": [
    "pNum = x**6 + 2*x**4 + 6*x - y\n",
    "pDen = x**3 + 3\n",
    "\n",
    "display(sym.latex(pNum))\n",
    "display(Math('$ \\\\frac{%s}{%s} $' %(sym.latex(pNum), sym.latex(pDen))))\n",
    "\n",
    "for yi in range(5,16):\n",
    "    tempnum = pNum.subs(y, yi)\n",
    "    display(Math('%s = %s' %(sym.latex(tempnum/pDen), sym.latex(sym.simplify(tempnum/pDen)))))\n",
    "\n",
    "    if sym.fraction(sym.simplify(tempnum/pDen))[1] == 1: \n",
    "        right_answer = yi\n",
    "\n",
    "print(\"The answer that satisfies our goal is y = %g\" %right_answer)"
   ],
   "outputs": [
    {
     "output_type": "display_data",
     "data": {
      "text/plain": [
       "'x^{6} + 2 x^{4} + 6 x - y'"
      ]
     },
     "metadata": {}
    },
    {
     "output_type": "display_data",
     "data": {
      "text/plain": [
       "<IPython.core.display.Math object>"
      ],
      "text/latex": [
       "$\\displaystyle  \\frac{x^{6} + 2 x^{4} + 6 x - y}{x^{3} + 3} $"
      ]
     },
     "metadata": {}
    },
    {
     "output_type": "display_data",
     "data": {
      "text/plain": [
       "<IPython.core.display.Math object>"
      ],
      "text/latex": [
       "$\\displaystyle \\frac{x^{6} + 2 x^{4} + 6 x - 5}{x^{3} + 3} = \\frac{x^{6} + 2 x^{4} + 6 x - 5}{x^{3} + 3}$"
      ]
     },
     "metadata": {}
    },
    {
     "output_type": "display_data",
     "data": {
      "text/plain": [
       "<IPython.core.display.Math object>"
      ],
      "text/latex": [
       "$\\displaystyle \\frac{x^{6} + 2 x^{4} + 6 x - 6}{x^{3} + 3} = \\frac{x^{6} + 2 x^{4} + 6 x - 6}{x^{3} + 3}$"
      ]
     },
     "metadata": {}
    },
    {
     "output_type": "display_data",
     "data": {
      "text/plain": [
       "<IPython.core.display.Math object>"
      ],
      "text/latex": [
       "$\\displaystyle \\frac{x^{6} + 2 x^{4} + 6 x - 7}{x^{3} + 3} = \\frac{x^{6} + 2 x^{4} + 6 x - 7}{x^{3} + 3}$"
      ]
     },
     "metadata": {}
    },
    {
     "output_type": "display_data",
     "data": {
      "text/plain": [
       "<IPython.core.display.Math object>"
      ],
      "text/latex": [
       "$\\displaystyle \\frac{x^{6} + 2 x^{4} + 6 x - 8}{x^{3} + 3} = \\frac{x^{6} + 2 x^{4} + 6 x - 8}{x^{3} + 3}$"
      ]
     },
     "metadata": {}
    },
    {
     "output_type": "display_data",
     "data": {
      "text/plain": [
       "<IPython.core.display.Math object>"
      ],
      "text/latex": [
       "$\\displaystyle \\frac{x^{6} + 2 x^{4} + 6 x - 9}{x^{3} + 3} = x^{3} + 2 x - 3$"
      ]
     },
     "metadata": {}
    },
    {
     "output_type": "display_data",
     "data": {
      "text/plain": [
       "<IPython.core.display.Math object>"
      ],
      "text/latex": [
       "$\\displaystyle \\frac{x^{6} + 2 x^{4} + 6 x - 10}{x^{3} + 3} = \\frac{x^{6} + 2 x^{4} + 6 x - 10}{x^{3} + 3}$"
      ]
     },
     "metadata": {}
    },
    {
     "output_type": "display_data",
     "data": {
      "text/plain": [
       "<IPython.core.display.Math object>"
      ],
      "text/latex": [
       "$\\displaystyle \\frac{x^{6} + 2 x^{4} + 6 x - 11}{x^{3} + 3} = \\frac{x^{6} + 2 x^{4} + 6 x - 11}{x^{3} + 3}$"
      ]
     },
     "metadata": {}
    },
    {
     "output_type": "display_data",
     "data": {
      "text/plain": [
       "<IPython.core.display.Math object>"
      ],
      "text/latex": [
       "$\\displaystyle \\frac{x^{6} + 2 x^{4} + 6 x - 12}{x^{3} + 3} = \\frac{x^{6} + 2 x^{4} + 6 x - 12}{x^{3} + 3}$"
      ]
     },
     "metadata": {}
    },
    {
     "output_type": "display_data",
     "data": {
      "text/plain": [
       "<IPython.core.display.Math object>"
      ],
      "text/latex": [
       "$\\displaystyle \\frac{x^{6} + 2 x^{4} + 6 x - 13}{x^{3} + 3} = \\frac{x^{6} + 2 x^{4} + 6 x - 13}{x^{3} + 3}$"
      ]
     },
     "metadata": {}
    },
    {
     "output_type": "display_data",
     "data": {
      "text/plain": [
       "<IPython.core.display.Math object>"
      ],
      "text/latex": [
       "$\\displaystyle \\frac{x^{6} + 2 x^{4} + 6 x - 14}{x^{3} + 3} = \\frac{x^{6} + 2 x^{4} + 6 x - 14}{x^{3} + 3}$"
      ]
     },
     "metadata": {}
    },
    {
     "output_type": "display_data",
     "data": {
      "text/plain": [
       "<IPython.core.display.Math object>"
      ],
      "text/latex": [
       "$\\displaystyle \\frac{x^{6} + 2 x^{4} + 6 x - 15}{x^{3} + 3} = \\frac{x^{6} + 2 x^{4} + 6 x - 15}{x^{3} + 3}$"
      ]
     },
     "metadata": {}
    },
    {
     "output_type": "stream",
     "name": "stdout",
     "text": [
      "The answer that satisfies our goal is y = 9\n"
     ]
    }
   ],
   "metadata": {}
  },
  {
   "cell_type": "markdown",
   "source": [
    "### 50.0 Factoring \n",
    "- $ x^2 + 4x + 3 = (x+1)(x+3) $"
   ],
   "metadata": {}
  },
  {
   "cell_type": "code",
   "execution_count": 38,
   "source": [
    "p = x**2 + 4*x + 3\n",
    "p2 = x**2 + 4*x -3\n",
    "p3 = 2*x**3*y - 2*x**2 + 2*x**2*y + 6*x*y + 6*x\n",
    "print(sym.factor(p))\n",
    "print(sym.factor(p2))\n",
    "print(sym.factor(p3))"
   ],
   "outputs": [
    {
     "output_type": "stream",
     "name": "stdout",
     "text": [
      "(x + 1)*(x + 3)\n",
      "x**2 + 4*x - 3\n",
      "2*x*(x**2*y + x*y - x + 3*y + 3)\n"
     ]
    }
   ],
   "metadata": {}
  },
  {
   "cell_type": "markdown",
   "source": [
    "#### Exercises\n",
    "- Determine whether the following polynomials can be factored\n",
    "    - $ x^2 + 4x + 3 \\Rightarrow (x+1)(x+3) $\n",
    "    - $ 2y^2 - 1 \\Rightarrow not \\; factorable! $\n",
    "    - 3y^2 + 12y = 3y(y+4)\n"
   ],
   "metadata": {}
  },
  {
   "cell_type": "code",
   "execution_count": 45,
   "source": [
    "expr1 = x**2 + 4*x + 3 \n",
    "expr2 = 2*y**2 -1 \n",
    "expr3 = 2*y**2 + 12*y \n",
    "\n",
    "print(sym.factor(expr1) == expr1)\n",
    "print(sym.factor(expr2) == expr2)\n",
    "print(sym.factor(expr3) == expr3)\n",
    "\n",
    "for expr in [expr1, expr2, expr3]:\n",
    "    if sym.factor(expr) == expr:\n",
    "        display(Math(\"$ %s \\\\quad \\\\Rightarrow \\\\quad not \\\\; factorable! $\" %sym.latex(expr)))\n",
    "    else:\n",
    "        display(Math(\"$ %s \\\\quad \\\\Rightarrow \\\\quad %s $\" %(sym.latex(expr), sym.latex(sym.factor(expr)))))\n",
    "        \n"
   ],
   "outputs": [
    {
     "output_type": "stream",
     "name": "stdout",
     "text": [
      "False\n",
      "True\n",
      "False\n"
     ]
    },
    {
     "output_type": "display_data",
     "data": {
      "text/plain": [
       "<IPython.core.display.Math object>"
      ],
      "text/latex": [
       "$\\displaystyle  x^{2} + 4 x + 3 \\Rightarrow \\left(x + 1\\right) \\left(x + 3\\right) $"
      ]
     },
     "metadata": {}
    },
    {
     "output_type": "display_data",
     "data": {
      "text/plain": [
       "<IPython.core.display.Math object>"
      ],
      "text/latex": [
       "$\\displaystyle  2 y^{2} - 1 \\Rightarrow not \\; factorable! $"
      ]
     },
     "metadata": {}
    },
    {
     "output_type": "display_data",
     "data": {
      "text/plain": [
       "<IPython.core.display.Math object>"
      ],
      "text/latex": [
       "$\\displaystyle  2 y^{2} + 12 y \\Rightarrow 2 y \\left(y + 6\\right) $"
      ]
     },
     "metadata": {}
    }
   ],
   "metadata": {}
  },
  {
   "cell_type": "markdown",
   "source": [
    "### 51.0 Algebra 1 Bug Hunt!"
   ],
   "metadata": {}
  },
  {
   "cell_type": "markdown",
   "source": [],
   "metadata": {}
  }
 ],
 "metadata": {
  "orig_nbformat": 4,
  "language_info": {
   "name": "python",
   "version": "3.9.6",
   "mimetype": "text/x-python",
   "codemirror_mode": {
    "name": "ipython",
    "version": 3
   },
   "pygments_lexer": "ipython3",
   "nbconvert_exporter": "python",
   "file_extension": ".py"
  },
  "kernelspec": {
   "name": "python3",
   "display_name": "Python 3.9.6 64-bit ('.venv': venv)"
  },
  "interpreter": {
   "hash": "63ba021c118c1bd3faca8caa34dc966b6966c784ba063dbe0904d78b2ae517ea"
  }
 },
 "nbformat": 4,
 "nbformat_minor": 2
}