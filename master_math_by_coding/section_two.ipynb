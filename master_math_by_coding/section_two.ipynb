{
 "cells": [
  {
   "cell_type": "markdown",
   "source": [
    "### 8.00 Addition, Subtraction, Multiplication, & Division"
   ],
   "metadata": {}
  },
  {
   "cell_type": "markdown",
   "source": [
    "- Exercises:\n",
    "    - $ 1\\,) \\qquad 5 - \\frac{2}{4} \\times \\frac{3}{5} = 4.7 $\n",
    "    - $ 2\\,) \\qquad \\frac{4-5}{3 + 5 \\times 6} = -0.0303 $\n"
   ],
   "metadata": {}
  },
  {
   "cell_type": "code",
   "execution_count": 1,
   "source": [
    "# 1\n",
    "5 - ((2/4) * (3/5))"
   ],
   "outputs": [
    {
     "output_type": "execute_result",
     "data": {
      "text/plain": [
       "4.7"
      ]
     },
     "metadata": {},
     "execution_count": 1
    }
   ],
   "metadata": {}
  },
  {
   "cell_type": "code",
   "execution_count": 2,
   "source": [
    "# 2\n",
    "(4-5)/(3 + (5 * 6))"
   ],
   "outputs": [
    {
     "output_type": "execute_result",
     "data": {
      "text/plain": [
       "-0.030303030303030304"
      ]
     },
     "metadata": {},
     "execution_count": 2
    }
   ],
   "metadata": {}
  },
  {
   "cell_type": "markdown",
   "source": [
    "### 9.00 Using Variables In Place of Nubers\n"
   ],
   "metadata": {}
  },
  {
   "cell_type": "markdown",
   "source": [
    "$ \\qquad x = 7, \\quad y = -2, \\quad z = 5 $ <br><br>\n",
    "$ 1\\,) \\qquad 3x(4 + y) = 42 $ <br><br>\n",
    "$ 2\\,) \\qquad -y - \\frac{x + 3}{z} = 0 $"
   ],
   "metadata": {}
  },
  {
   "cell_type": "code",
   "execution_count": 3,
   "source": [
    "x = 7\n",
    "y = -2 \n",
    "z = 5 \n",
    "\n",
    "print(f\"1) (3*x) * (4 + y) = {(3*x) * (4 + y)}\")\n",
    "print(f\"2) -y - ((x + 3) / z) = {-y - ((x + 3) / z):.0f}\")"
   ],
   "outputs": [
    {
     "output_type": "stream",
     "name": "stdout",
     "text": [
      "1) (3*x) * (4 + y) = 42\n",
      "2) -y - ((x + 3) / z) = 0\n"
     ]
    }
   ],
   "metadata": {}
  },
  {
   "cell_type": "markdown",
   "source": [
    "### 10.0 Printing Out Equations in Jupyter Notebooks"
   ],
   "metadata": {}
  },
  {
   "cell_type": "code",
   "execution_count": 4,
   "source": [
    "from IPython.display import display, display_latex, Math"
   ],
   "outputs": [],
   "metadata": {}
  },
  {
   "cell_type": "code",
   "execution_count": 5,
   "source": [
    "x = 4\n",
    "y = 5\n",
    "\n",
    "display(\"4 + 3 = 7\")\n",
    "display(f\"4 + 3 = {4+3}\")\n",
    "display(Math(\"4+3=7\"))\n",
    "display(Math(f\"{x} + {y} = {x+y}\"))\n",
    "display(Math(f\"\\\\frac{{x}}{{y}} = {x/y}\"))\n",
    "\n",
    "display(Math(f\" \\\\frac{x}{y} = {x/y} \"))"
   ],
   "outputs": [
    {
     "output_type": "display_data",
     "data": {
      "text/plain": [
       "'4 + 3 = 7'"
      ]
     },
     "metadata": {}
    },
    {
     "output_type": "display_data",
     "data": {
      "text/plain": [
       "'4 + 3 = 7'"
      ]
     },
     "metadata": {}
    },
    {
     "output_type": "display_data",
     "data": {
      "text/plain": [
       "<IPython.core.display.Math object>"
      ],
      "text/latex": [
       "$\\displaystyle 4+3=7$"
      ]
     },
     "metadata": {}
    },
    {
     "output_type": "display_data",
     "data": {
      "text/plain": [
       "<IPython.core.display.Math object>"
      ],
      "text/latex": [
       "$\\displaystyle 4 + 5 = 9$"
      ]
     },
     "metadata": {}
    },
    {
     "output_type": "display_data",
     "data": {
      "text/plain": [
       "<IPython.core.display.Math object>"
      ],
      "text/latex": [
       "$\\displaystyle \\frac{x}{y} = 0.8$"
      ]
     },
     "metadata": {}
    },
    {
     "output_type": "display_data",
     "data": {
      "text/plain": [
       "<IPython.core.display.Math object>"
      ],
      "text/latex": [
       "$\\displaystyle  \\frac45 = 0.8 $"
      ]
     },
     "metadata": {}
    }
   ],
   "metadata": {}
  },
  {
   "cell_type": "code",
   "execution_count": 6,
   "source": [
    "x,y,z = 7,-2,5\n",
    "\n",
    "display(Math(f\"x = 7, \\\\qquad y = -2, \\\\qquad z = 5\"))\n",
    "\n",
    "display(Math(f\"\"\"\n",
    "1\\\\,)\\\\quad 3x(4+y) =  \n",
    "3 \\\\times {x}(4 + {y}) = {(3*x)*(4+y)}\n",
    "\"\"\"))\n",
    "\n",
    "display(Math(f\"\"\" \n",
    "2\\\\,) \\\\quad -y - \\\\frac{{x+3}}{{z}} = \n",
    "-{y} - \\\\frac{{{x} + 3}}{z} = \n",
    "{-y - ((x+3)/z):.0f}\"\"\"))"
   ],
   "outputs": [
    {
     "output_type": "display_data",
     "data": {
      "text/plain": [
       "<IPython.core.display.Math object>"
      ],
      "text/latex": [
       "$\\displaystyle x = 7, \\qquad y = -2, \\qquad z = 5$"
      ]
     },
     "metadata": {}
    },
    {
     "output_type": "display_data",
     "data": {
      "text/plain": [
       "<IPython.core.display.Math object>"
      ],
      "text/latex": [
       "$\\displaystyle \n",
       "1\\,)\\quad 3x(4+y) =  \n",
       "3 \\times 7(4 + -2) = 42\n",
       "$"
      ]
     },
     "metadata": {}
    },
    {
     "output_type": "display_data",
     "data": {
      "text/plain": [
       "<IPython.core.display.Math object>"
      ],
      "text/latex": [
       "$\\displaystyle  \n",
       "2\\,) \\quad -y - \\frac{x+3}{z} = \n",
       "--2 - \\frac{7 + 3}5 = \n",
       "0$"
      ]
     },
     "metadata": {}
    }
   ],
   "metadata": {}
  },
  {
   "cell_type": "markdown",
   "source": [
    "### 12.0 Exponentiation"
   ],
   "metadata": {}
  },
  {
   "cell_type": "code",
   "execution_count": 7,
   "source": [
    "display(Math(f\"\"\"\n",
    "3^2 = {3**2}\n",
    "\"\"\"))"
   ],
   "outputs": [
    {
     "output_type": "display_data",
     "data": {
      "text/plain": [
       "<IPython.core.display.Math object>"
      ],
      "text/latex": [
       "$\\displaystyle \n",
       "3^2 = 9\n",
       "$"
      ]
     },
     "metadata": {}
    }
   ],
   "metadata": {}
  },
  {
   "cell_type": "code",
   "execution_count": 8,
   "source": [
    "x, y = 5, 5.1 \n",
    "slv1 = (x**(3/4)) * 4**y\n",
    "slv2 = (3**3)/(x**y)\n",
    "slv3 = 10**(x-4)\n",
    "\n",
    "vars = f\"\"\"x = 5, \\\\qquad y = 5.1\"\"\"\n",
    "\n",
    "eq1 = f\"\"\"\n",
    "1\\\\,) \\\\quad x^\\\\frac{3}{4} \\\\times 4^y = {slv1:.2f}\n",
    "\"\"\"\n",
    "\n",
    "eq2 = f\"\"\"\n",
    "2\\\\,) \\\\quad \\\\frac{{3^3}}{{x^y}} = {slv2:.8f}\n",
    "\"\"\"\n",
    "\n",
    "eq3 = f\"\"\"\n",
    "3\\\\,) \\\\quad 10^{{x-4}} = {slv3}\n",
    "\"\"\"\n",
    "\n",
    "display(Math(vars))\n",
    "display(Math(eq1))\n",
    "display(Math(eq2))\n",
    "display(Math(eq3))"
   ],
   "outputs": [
    {
     "output_type": "display_data",
     "data": {
      "text/plain": [
       "<IPython.core.display.Math object>"
      ],
      "text/latex": [
       "$\\displaystyle x = 5, \\qquad y = 5.1$"
      ]
     },
     "metadata": {}
    },
    {
     "output_type": "display_data",
     "data": {
      "text/plain": [
       "<IPython.core.display.Math object>"
      ],
      "text/latex": [
       "$\\displaystyle \n",
       "1\\,) \\quad x^\\frac34 \\times 4^y = 3933.09\n",
       "$"
      ]
     },
     "metadata": {}
    },
    {
     "output_type": "display_data",
     "data": {
      "text/plain": [
       "<IPython.core.display.Math object>"
      ],
      "text/latex": [
       "$\\displaystyle \n",
       "2\\,) \\quad \\frac{3^3}{x^y} = 0.00735558\n",
       "$"
      ]
     },
     "metadata": {}
    },
    {
     "output_type": "display_data",
     "data": {
      "text/plain": [
       "<IPython.core.display.Math object>"
      ],
      "text/latex": [
       "$\\displaystyle \n",
       "3\\,) \\quad 10^{x-4} = 10\n",
       "$"
      ]
     },
     "metadata": {}
    }
   ],
   "metadata": {}
  },
  {
   "cell_type": "markdown",
   "source": [
    "### 13.0 Using For-Loops to Compute Powers"
   ],
   "metadata": {}
  },
  {
   "cell_type": "code",
   "execution_count": 21,
   "source": [
    "base = 32\n",
    "\n",
    "for i in range(10):\n",
    "    print(f\"{base} to the power of {i} is: {base**i}\")"
   ],
   "outputs": [
    {
     "output_type": "stream",
     "name": "stdout",
     "text": [
      "32 to the power of 0 is: 1\n",
      "32 to the power of 1 is: 32\n",
      "32 to the power of 2 is: 1024\n",
      "32 to the power of 3 is: 32768\n",
      "32 to the power of 4 is: 1048576\n",
      "32 to the power of 5 is: 33554432\n",
      "32 to the power of 6 is: 1073741824\n",
      "32 to the power of 7 is: 34359738368\n",
      "32 to the power of 8 is: 1099511627776\n",
      "32 to the power of 9 is: 35184372088832\n"
     ]
    }
   ],
   "metadata": {}
  },
  {
   "cell_type": "code",
   "execution_count": null,
   "source": [],
   "outputs": [],
   "metadata": {}
  }
 ],
 "metadata": {
  "orig_nbformat": 4,
  "language_info": {
   "name": "python",
   "version": "3.9.6",
   "mimetype": "text/x-python",
   "codemirror_mode": {
    "name": "ipython",
    "version": 3
   },
   "pygments_lexer": "ipython3",
   "nbconvert_exporter": "python",
   "file_extension": ".py"
  },
  "kernelspec": {
   "name": "python3",
   "display_name": "Python 3.9.6 64-bit ('.venv': venv)"
  },
  "interpreter": {
   "hash": "63ba021c118c1bd3faca8caa34dc966b6966c784ba063dbe0904d78b2ae517ea"
  }
 },
 "nbformat": 4,
 "nbformat_minor": 2
}